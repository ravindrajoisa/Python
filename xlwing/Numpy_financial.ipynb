{
 "cells": [
  {
   "cell_type": "code",
   "execution_count": 3,
   "id": "311d4b05-978d-4780-a235-f4a9402f83e4",
   "metadata": {},
   "outputs": [],
   "source": [
    "import xlwings as xw\n",
    "import numpy_financial as npf"
   ]
  },
  {
   "cell_type": "code",
   "execution_count": 2,
   "id": "75617e5e-3595-40ea-a980-0d2e741062cf",
   "metadata": {},
   "outputs": [
    {
     "name": "stdout",
     "output_type": "stream",
     "text": [
      "Collecting numpy_financial\n",
      "  Downloading numpy_financial-1.0.0-py3-none-any.whl.metadata (2.2 kB)\n",
      "Requirement already satisfied: numpy>=1.15 in c:\\users\\ravin\\anaconda3\\lib\\site-packages (from numpy_financial) (1.26.4)\n",
      "Downloading numpy_financial-1.0.0-py3-none-any.whl (14 kB)\n",
      "Installing collected packages: numpy_financial\n",
      "Successfully installed numpy_financial-1.0.0\n",
      "Note: you may need to restart the kernel to use updated packages.\n"
     ]
    }
   ],
   "source": [
    "pip install numpy_financial"
   ]
  },
  {
   "cell_type": "code",
   "execution_count": 1,
   "id": "eafc7240-862c-43cf-954c-15093282a311",
   "metadata": {},
   "outputs": [],
   "source": [
    "import numpy_financial as npf"
   ]
  },
  {
   "cell_type": "code",
   "execution_count": 19,
   "id": "6ce22be6-6a34-49f0-b243-c5b26a908324",
   "metadata": {},
   "outputs": [
    {
     "data": {
      "text/plain": [
       "<Book [CaseStudy_1.xlsx]>"
      ]
     },
     "execution_count": 19,
     "metadata": {},
     "output_type": "execute_result"
    }
   ],
   "source": [
    "wb = xw.Book(\"CaseStudy_1.xlsx\")\n",
    "wb"
   ]
  },
  {
   "cell_type": "code",
   "execution_count": 37,
   "id": "7b7a247d-d8c9-4c9a-b0b4-07c77c7fb531",
   "metadata": {},
   "outputs": [
    {
     "data": {
      "text/plain": [
       "<Sheet [CaseStudy_1.xlsx]Sheet1>"
      ]
     },
     "execution_count": 37,
     "metadata": {},
     "output_type": "execute_result"
    }
   ],
   "source": [
    "sheet = wb.sheets[0]\n",
    "sheet"
   ]
  },
  {
   "cell_type": "code",
   "execution_count": 32,
   "id": "027c248c-a7a4-49af-a49d-5553ae90686b",
   "metadata": {},
   "outputs": [],
   "source": [
    "sheet.range(\"B1\").name = \"Savings\""
   ]
  },
  {
   "cell_type": "code",
   "execution_count": 33,
   "id": "e8a02969-553f-459d-9b0b-a88d983c735d",
   "metadata": {},
   "outputs": [],
   "source": [
    "sheet.range(\"B2\").name = \"Interest_Rate\""
   ]
  },
  {
   "cell_type": "code",
   "execution_count": 34,
   "id": "a4528537-8da6-44ec-a2bd-1f31da1526f0",
   "metadata": {},
   "outputs": [],
   "source": [
    "sheet.range(\"B3\").name = \"Periods\""
   ]
  },
  {
   "cell_type": "code",
   "execution_count": 35,
   "id": "b238fa1e-733f-4dc8-ad2c-b7a5b47cf6f3",
   "metadata": {},
   "outputs": [],
   "source": [
    "sheet.range(\"B4\").name = \"Future_Value\""
   ]
  },
  {
   "cell_type": "code",
   "execution_count": 45,
   "id": "6c8d85ef-6add-4593-a8c2-1719fdbfcddc",
   "metadata": {},
   "outputs": [],
   "source": [
    "# enter the values in the excel\n",
    "fv = -npf.fv(rate = sheet.range(\"Interest_Rate\").value,\n",
    "            nper = sheet.range(\"Periods\").value,\n",
    "            pmt = 0,\n",
    "            pv = sheet.range(\"Savings\").value\n",
    "           )"
   ]
  },
  {
   "cell_type": "code",
   "execution_count": 46,
   "id": "e46f723e-dd29-4c19-a262-4a1bafec193a",
   "metadata": {},
   "outputs": [
    {
     "data": {
      "text/plain": [
       "121.55062500000003"
      ]
     },
     "execution_count": 46,
     "metadata": {},
     "output_type": "execute_result"
    }
   ],
   "source": [
    "fv"
   ]
  },
  {
   "cell_type": "code",
   "execution_count": 50,
   "id": "54de7938-d1d6-4ca8-b6d6-00cbca43df6f",
   "metadata": {},
   "outputs": [],
   "source": [
    "# this will write the value to the excel\n",
    "\n",
    "sheet.range(\"Future_Value\").value = fv"
   ]
  },
  {
   "cell_type": "code",
   "execution_count": null,
   "id": "372d63b6-e616-4468-9fe6-c003f2a835b8",
   "metadata": {},
   "outputs": [],
   "source": []
  }
 ],
 "metadata": {
  "kernelspec": {
   "display_name": "Python 3 (ipykernel)",
   "language": "python",
   "name": "python3"
  },
  "language_info": {
   "codemirror_mode": {
    "name": "ipython",
    "version": 3
   },
   "file_extension": ".py",
   "mimetype": "text/x-python",
   "name": "python",
   "nbconvert_exporter": "python",
   "pygments_lexer": "ipython3",
   "version": "3.12.4"
  }
 },
 "nbformat": 4,
 "nbformat_minor": 5
}
