{
 "cells": [
  {
   "cell_type": "code",
   "execution_count": 2,
   "id": "ed9813dc-65af-4cba-8d61-7ca0f821202e",
   "metadata": {},
   "outputs": [
    {
     "name": "stdout",
     "output_type": "stream",
     "text": [
      "Requirement already satisfied: xlwings in c:\\users\\ravin\\anaconda3\\lib\\site-packages (0.31.4)\n",
      "Requirement already satisfied: pywin32>=224 in c:\\users\\ravin\\anaconda3\\lib\\site-packages (from xlwings) (305.1)\n",
      "Note: you may need to restart the kernel to use updated packages.\n"
     ]
    }
   ],
   "source": [
    "pip install xlwings"
   ]
  },
  {
   "cell_type": "code",
   "execution_count": 2,
   "id": "76aca74a-0e7e-4166-8dd9-f9671c08c0ba",
   "metadata": {},
   "outputs": [],
   "source": [
    "import xlwings as xw\n",
    "import pandas as pd\n",
    "import numpy as np"
   ]
  },
  {
   "cell_type": "code",
   "execution_count": 3,
   "id": "d434dc7c-ceef-413a-9de9-16974d2dbb34",
   "metadata": {},
   "outputs": [],
   "source": [
    "# numpy array"
   ]
  },
  {
   "cell_type": "code",
   "execution_count": 4,
   "id": "5494d2fa-0d51-4bd5-a028-062bfead6552",
   "metadata": {},
   "outputs": [],
   "source": [
    "data1 = np.random.randint(1, 100, 10000).reshape(100, 100)"
   ]
  },
  {
   "cell_type": "code",
   "execution_count": 5,
   "id": "309c1521-56f2-425b-b631-7ed7750babbb",
   "metadata": {},
   "outputs": [
    {
     "data": {
      "text/plain": [
       "array([[86, 66,  2, ..., 56, 87, 88],\n",
       "       [55,  9, 61, ..., 35,  2, 75],\n",
       "       [12, 89, 27, ..., 24,  6, 75],\n",
       "       ...,\n",
       "       [95, 97, 59, ..., 75, 94, 48],\n",
       "       [12, 29, 18, ..., 11, 57, 20],\n",
       "       [ 6, 45, 90, ..., 30, 31, 19]])"
      ]
     },
     "execution_count": 5,
     "metadata": {},
     "output_type": "execute_result"
    }
   ],
   "source": [
    "data1"
   ]
  },
  {
   "cell_type": "code",
   "execution_count": 6,
   "id": "c0c5b0e2-d5e8-4b58-9065-e8eeb2084ec6",
   "metadata": {},
   "outputs": [
    {
     "data": {
      "text/plain": [
       "(100, 100)"
      ]
     },
     "execution_count": 6,
     "metadata": {},
     "output_type": "execute_result"
    }
   ],
   "source": [
    "data1.shape"
   ]
  },
  {
   "cell_type": "code",
   "execution_count": 13,
   "id": "b94a0aee-255d-4527-8606-52a961786027",
   "metadata": {},
   "outputs": [],
   "source": [
    "xw.view(data1)"
   ]
  },
  {
   "cell_type": "code",
   "execution_count": 9,
   "id": "5bbc8c3f-284c-49c4-b2a2-af0a3fb732d4",
   "metadata": {},
   "outputs": [
    {
     "data": {
      "text/plain": [
       "array([[85, 22, 21, 65, 61, 93, 20, 47, 21, 44],\n",
       "       [47, 62, 81, 61, 75, 63, 10, 86,  6, 31],\n",
       "       [42, 85,  7, 65, 64, 82, 55,  5, 62, 59],\n",
       "       [37, 78, 88, 10, 53, 48, 90, 39, 75, 85],\n",
       "       [71,  9, 86, 56, 11, 44, 20, 10, 47, 81],\n",
       "       [53, 95,  1, 28, 89, 96, 98, 67,  9,  6],\n",
       "       [ 9,  4, 90, 93, 85, 83, 75, 87, 26, 17],\n",
       "       [75, 33, 30, 27, 41,  5, 91, 34,  5, 47],\n",
       "       [19, 69,  9, 81, 91,  1, 43, 10, 14, 66],\n",
       "       [65, 67, 87, 81, 22, 44, 79, 17, 89, 16]])"
      ]
     },
     "execution_count": 9,
     "metadata": {},
     "output_type": "execute_result"
    }
   ],
   "source": [
    "data2 = np.random.randint(1,100, 100).reshape(10,10)\n",
    "data2"
   ]
  },
  {
   "cell_type": "code",
   "execution_count": 16,
   "id": "add1aee5-2bb5-40b7-b0cb-1478a5d4ecea",
   "metadata": {},
   "outputs": [],
   "source": [
    "xw.view(data2)"
   ]
  },
  {
   "cell_type": "code",
   "execution_count": 17,
   "id": "f7dae227-c3a8-4796-b0c3-1094d238da98",
   "metadata": {},
   "outputs": [],
   "source": [
    "# now that we have 2 excel data, to make the 2nd sheet active, use the following code\n",
    "\n",
    "xw.view(data2, sheet = xw.sheets.active)"
   ]
  },
  {
   "cell_type": "code",
   "execution_count": 18,
   "id": "fdeb9e22-96e8-494d-b38e-e7e8158be5a7",
   "metadata": {},
   "outputs": [],
   "source": [
    "# pandas dataframe"
   ]
  },
  {
   "cell_type": "code",
   "execution_count": 19,
   "id": "b0e5aff3-8520-40e3-8585-b97a214fde63",
   "metadata": {},
   "outputs": [],
   "source": [
    "df = pd.read_csv(\"titanic.csv\")"
   ]
  },
  {
   "cell_type": "code",
   "execution_count": 20,
   "id": "63de7711-8084-4e37-a5d1-8f6e7c52eeed",
   "metadata": {},
   "outputs": [
    {
     "data": {
      "text/html": [
       "<div>\n",
       "<style scoped>\n",
       "    .dataframe tbody tr th:only-of-type {\n",
       "        vertical-align: middle;\n",
       "    }\n",
       "\n",
       "    .dataframe tbody tr th {\n",
       "        vertical-align: top;\n",
       "    }\n",
       "\n",
       "    .dataframe thead th {\n",
       "        text-align: right;\n",
       "    }\n",
       "</style>\n",
       "<table border=\"1\" class=\"dataframe\">\n",
       "  <thead>\n",
       "    <tr style=\"text-align: right;\">\n",
       "      <th></th>\n",
       "      <th>survived</th>\n",
       "      <th>pclass</th>\n",
       "      <th>sex</th>\n",
       "      <th>age</th>\n",
       "      <th>sibsp</th>\n",
       "      <th>parch</th>\n",
       "      <th>fare</th>\n",
       "      <th>embarked</th>\n",
       "      <th>deck</th>\n",
       "    </tr>\n",
       "  </thead>\n",
       "  <tbody>\n",
       "    <tr>\n",
       "      <th>0</th>\n",
       "      <td>0</td>\n",
       "      <td>3</td>\n",
       "      <td>male</td>\n",
       "      <td>22.0</td>\n",
       "      <td>1</td>\n",
       "      <td>0</td>\n",
       "      <td>7.2500</td>\n",
       "      <td>S</td>\n",
       "      <td>NaN</td>\n",
       "    </tr>\n",
       "    <tr>\n",
       "      <th>1</th>\n",
       "      <td>1</td>\n",
       "      <td>1</td>\n",
       "      <td>female</td>\n",
       "      <td>38.0</td>\n",
       "      <td>1</td>\n",
       "      <td>0</td>\n",
       "      <td>71.2833</td>\n",
       "      <td>C</td>\n",
       "      <td>C</td>\n",
       "    </tr>\n",
       "    <tr>\n",
       "      <th>2</th>\n",
       "      <td>1</td>\n",
       "      <td>3</td>\n",
       "      <td>female</td>\n",
       "      <td>26.0</td>\n",
       "      <td>0</td>\n",
       "      <td>0</td>\n",
       "      <td>7.9250</td>\n",
       "      <td>S</td>\n",
       "      <td>NaN</td>\n",
       "    </tr>\n",
       "    <tr>\n",
       "      <th>3</th>\n",
       "      <td>1</td>\n",
       "      <td>1</td>\n",
       "      <td>female</td>\n",
       "      <td>35.0</td>\n",
       "      <td>1</td>\n",
       "      <td>0</td>\n",
       "      <td>53.1000</td>\n",
       "      <td>S</td>\n",
       "      <td>C</td>\n",
       "    </tr>\n",
       "    <tr>\n",
       "      <th>4</th>\n",
       "      <td>0</td>\n",
       "      <td>3</td>\n",
       "      <td>male</td>\n",
       "      <td>35.0</td>\n",
       "      <td>0</td>\n",
       "      <td>0</td>\n",
       "      <td>8.0500</td>\n",
       "      <td>S</td>\n",
       "      <td>NaN</td>\n",
       "    </tr>\n",
       "    <tr>\n",
       "      <th>...</th>\n",
       "      <td>...</td>\n",
       "      <td>...</td>\n",
       "      <td>...</td>\n",
       "      <td>...</td>\n",
       "      <td>...</td>\n",
       "      <td>...</td>\n",
       "      <td>...</td>\n",
       "      <td>...</td>\n",
       "      <td>...</td>\n",
       "    </tr>\n",
       "    <tr>\n",
       "      <th>886</th>\n",
       "      <td>0</td>\n",
       "      <td>2</td>\n",
       "      <td>male</td>\n",
       "      <td>27.0</td>\n",
       "      <td>0</td>\n",
       "      <td>0</td>\n",
       "      <td>13.0000</td>\n",
       "      <td>S</td>\n",
       "      <td>NaN</td>\n",
       "    </tr>\n",
       "    <tr>\n",
       "      <th>887</th>\n",
       "      <td>1</td>\n",
       "      <td>1</td>\n",
       "      <td>female</td>\n",
       "      <td>19.0</td>\n",
       "      <td>0</td>\n",
       "      <td>0</td>\n",
       "      <td>30.0000</td>\n",
       "      <td>S</td>\n",
       "      <td>B</td>\n",
       "    </tr>\n",
       "    <tr>\n",
       "      <th>888</th>\n",
       "      <td>0</td>\n",
       "      <td>3</td>\n",
       "      <td>female</td>\n",
       "      <td>NaN</td>\n",
       "      <td>1</td>\n",
       "      <td>2</td>\n",
       "      <td>23.4500</td>\n",
       "      <td>S</td>\n",
       "      <td>NaN</td>\n",
       "    </tr>\n",
       "    <tr>\n",
       "      <th>889</th>\n",
       "      <td>1</td>\n",
       "      <td>1</td>\n",
       "      <td>male</td>\n",
       "      <td>26.0</td>\n",
       "      <td>0</td>\n",
       "      <td>0</td>\n",
       "      <td>30.0000</td>\n",
       "      <td>C</td>\n",
       "      <td>C</td>\n",
       "    </tr>\n",
       "    <tr>\n",
       "      <th>890</th>\n",
       "      <td>0</td>\n",
       "      <td>3</td>\n",
       "      <td>male</td>\n",
       "      <td>32.0</td>\n",
       "      <td>0</td>\n",
       "      <td>0</td>\n",
       "      <td>7.7500</td>\n",
       "      <td>Q</td>\n",
       "      <td>NaN</td>\n",
       "    </tr>\n",
       "  </tbody>\n",
       "</table>\n",
       "<p>891 rows × 9 columns</p>\n",
       "</div>"
      ],
      "text/plain": [
       "     survived  pclass     sex   age  sibsp  parch     fare embarked deck\n",
       "0           0       3    male  22.0      1      0   7.2500        S  NaN\n",
       "1           1       1  female  38.0      1      0  71.2833        C    C\n",
       "2           1       3  female  26.0      0      0   7.9250        S  NaN\n",
       "3           1       1  female  35.0      1      0  53.1000        S    C\n",
       "4           0       3    male  35.0      0      0   8.0500        S  NaN\n",
       "..        ...     ...     ...   ...    ...    ...      ...      ...  ...\n",
       "886         0       2    male  27.0      0      0  13.0000        S  NaN\n",
       "887         1       1  female  19.0      0      0  30.0000        S    B\n",
       "888         0       3  female   NaN      1      2  23.4500        S  NaN\n",
       "889         1       1    male  26.0      0      0  30.0000        C    C\n",
       "890         0       3    male  32.0      0      0   7.7500        Q  NaN\n",
       "\n",
       "[891 rows x 9 columns]"
      ]
     },
     "execution_count": 20,
     "metadata": {},
     "output_type": "execute_result"
    }
   ],
   "source": [
    "df"
   ]
  },
  {
   "cell_type": "code",
   "execution_count": 21,
   "id": "e619bf96-5764-4be3-a8da-207e44e83411",
   "metadata": {},
   "outputs": [],
   "source": [
    "pd.options.display.max_rows = 900"
   ]
  },
  {
   "cell_type": "code",
   "execution_count": 22,
   "id": "75c7fd76-e05d-4798-903c-998d5cdb3db6",
   "metadata": {},
   "outputs": [],
   "source": [
    "xw.view(df)"
   ]
  },
  {
   "cell_type": "code",
   "execution_count": 23,
   "id": "9b823cfc-e2d1-4136-a86f-cf6067e925e0",
   "metadata": {},
   "outputs": [],
   "source": [
    "# connection to a new book"
   ]
  },
  {
   "cell_type": "code",
   "execution_count": 24,
   "id": "ec82fc12-cf2a-47d3-b57f-32684403b7f6",
   "metadata": {},
   "outputs": [
    {
     "data": {
      "text/plain": [
       "<Book [Book6]>"
      ]
     },
     "execution_count": 24,
     "metadata": {},
     "output_type": "execute_result"
    }
   ],
   "source": [
    "xw.Book()"
   ]
  },
  {
   "cell_type": "code",
   "execution_count": 25,
   "id": "8f6260f4-671b-42f7-b6a3-d77090f372c0",
   "metadata": {},
   "outputs": [
    {
     "data": {
      "text/plain": [
       "<Book [Book6]>"
      ]
     },
     "execution_count": 25,
     "metadata": {},
     "output_type": "execute_result"
    }
   ],
   "source": [
    "xw.books.active"
   ]
  },
  {
   "cell_type": "code",
   "execution_count": 26,
   "id": "32ffc176-43b6-48b0-842a-0608516d3278",
   "metadata": {},
   "outputs": [],
   "source": [
    "xw.books.active.close()"
   ]
  },
  {
   "cell_type": "code",
   "execution_count": 41,
   "id": "7a787064-136e-407c-8bd6-9c1fa1e10f37",
   "metadata": {},
   "outputs": [],
   "source": [
    "wb = xw.Book()"
   ]
  },
  {
   "cell_type": "code",
   "execution_count": 28,
   "id": "b477b0dd-0890-4340-a200-f545f1c58de9",
   "metadata": {},
   "outputs": [
    {
     "data": {
      "text/plain": [
       "<Book [Book1]>"
      ]
     },
     "execution_count": 28,
     "metadata": {},
     "output_type": "execute_result"
    }
   ],
   "source": [
    "wb"
   ]
  },
  {
   "cell_type": "code",
   "execution_count": 29,
   "id": "18c816bb-979e-421d-8393-3ed4a4faca01",
   "metadata": {},
   "outputs": [],
   "source": [
    "wb.close()"
   ]
  },
  {
   "cell_type": "code",
   "execution_count": 30,
   "id": "15835308-056e-410d-bb62-a64b3a9c4ec2",
   "metadata": {},
   "outputs": [
    {
     "data": {
      "text/plain": [
       "<Book [Book1]>"
      ]
     },
     "execution_count": 30,
     "metadata": {},
     "output_type": "execute_result"
    }
   ],
   "source": [
    "#connect to an open, unsaved book - use the book name\n",
    "wb = xw.Book(\"Book1\")\n",
    "wb"
   ]
  },
  {
   "cell_type": "code",
   "execution_count": 31,
   "id": "c96635da-9b9a-44b2-b635-07d81dc3b94c",
   "metadata": {},
   "outputs": [],
   "source": [
    "# connect to a saved Book"
   ]
  },
  {
   "cell_type": "code",
   "execution_count": 32,
   "id": "a73018f6-381e-491b-ac61-cb31ff6b0d71",
   "metadata": {},
   "outputs": [
    {
     "ename": "SyntaxError",
     "evalue": "(unicode error) 'unicodeescape' codec can't decode bytes in position 2-3: truncated \\UXXXXXXXX escape (2041628707.py, line 1)",
     "output_type": "error",
     "traceback": [
      "\u001b[1;36m  Cell \u001b[1;32mIn[32], line 1\u001b[1;36m\u001b[0m\n\u001b[1;33m    \"C:\\Users\\ravin\\OneDrive\\Desktop\\Test2.xlsx\"\u001b[0m\n\u001b[1;37m    ^\u001b[0m\n\u001b[1;31mSyntaxError\u001b[0m\u001b[1;31m:\u001b[0m (unicode error) 'unicodeescape' codec can't decode bytes in position 2-3: truncated \\UXXXXXXXX escape\n"
     ]
    }
   ],
   "source": [
    "\"C:\\Users\\ravin\\OneDrive\\Desktop\\Test2.xlsx\""
   ]
  },
  {
   "cell_type": "code",
   "execution_count": 37,
   "id": "e853e52c-2fc2-4c2f-8085-4305f0f64a58",
   "metadata": {},
   "outputs": [],
   "source": [
    "# for windows, the above path will not work, hence use this.\n",
    "path = r\"C:\\Users\\ravin\\OneDrive\\Desktop\\Test2.xlsx\"  #windows"
   ]
  },
  {
   "cell_type": "code",
   "execution_count": 39,
   "id": "69ca2746-0dae-411e-9d25-e758339855fa",
   "metadata": {},
   "outputs": [
    {
     "data": {
      "text/plain": [
       "<Book [Test2.xlsx]>"
      ]
     },
     "execution_count": 39,
     "metadata": {},
     "output_type": "execute_result"
    }
   ],
   "source": [
    "wb = xw.Book(path)\n",
    "wb"
   ]
  },
  {
   "cell_type": "code",
   "execution_count": 36,
   "id": "c9423f36-d9c7-4a9b-9434-91285de01993",
   "metadata": {},
   "outputs": [
    {
     "data": {
      "text/plain": [
       "<Book [Test2.xlsx]>"
      ]
     },
     "execution_count": 36,
     "metadata": {},
     "output_type": "execute_result"
    }
   ],
   "source": [
    "wb = xw.Book(\"Test2.xlsx\")\n",
    "wb"
   ]
  },
  {
   "cell_type": "code",
   "execution_count": 45,
   "id": "62097c0b-8746-4bc6-9523-d8a568ff6820",
   "metadata": {},
   "outputs": [],
   "source": [
    "# Reading and Writing single values"
   ]
  },
  {
   "cell_type": "code",
   "execution_count": 54,
   "id": "ab1d05b9-3131-45ff-852d-528385a2a9e4",
   "metadata": {},
   "outputs": [
    {
     "data": {
      "text/plain": [
       "<Book [Book1]>"
      ]
     },
     "execution_count": 54,
     "metadata": {},
     "output_type": "execute_result"
    }
   ],
   "source": [
    "wb = xw.Book()\n",
    "wb"
   ]
  },
  {
   "cell_type": "code",
   "execution_count": 55,
   "id": "669b8562-7b0e-419a-af5a-7e820954b07c",
   "metadata": {},
   "outputs": [
    {
     "data": {
      "text/plain": [
       "<Sheet [Book1]Sheet1>"
      ]
     },
     "execution_count": 55,
     "metadata": {},
     "output_type": "execute_result"
    }
   ],
   "source": [
    "sheet = wb.sheets[0]\n",
    "sheet"
   ]
  },
  {
   "cell_type": "code",
   "execution_count": 56,
   "id": "bc0987e3-0518-486a-b0ae-1eb6e5544ddf",
   "metadata": {},
   "outputs": [
    {
     "data": {
      "text/plain": [
       "<Book [Book1]>"
      ]
     },
     "execution_count": 56,
     "metadata": {},
     "output_type": "execute_result"
    }
   ],
   "source": [
    "xw.books.active"
   ]
  },
  {
   "cell_type": "code",
   "execution_count": 62,
   "id": "38b0c75b-d2a3-41df-916e-7b02d6edeb2d",
   "metadata": {},
   "outputs": [
    {
     "data": {
      "text/plain": [
       "<Sheet [Book1]Sheet1>"
      ]
     },
     "execution_count": 62,
     "metadata": {},
     "output_type": "execute_result"
    }
   ],
   "source": [
    "xw.sheets.active"
   ]
  },
  {
   "cell_type": "code",
   "execution_count": 52,
   "id": "3f760587-ea17-4820-b170-b7a1806450d6",
   "metadata": {},
   "outputs": [],
   "source": [
    "# Write a single value"
   ]
  },
  {
   "cell_type": "code",
   "execution_count": 63,
   "id": "3ba91188-57ba-4e63-918a-ab018c27753c",
   "metadata": {},
   "outputs": [],
   "source": [
    "sheet.range(\"A1\").value = \"Hello World\" #strings"
   ]
  },
  {
   "cell_type": "code",
   "execution_count": 64,
   "id": "049bb9ad-5676-44c3-9886-95b4e6887978",
   "metadata": {},
   "outputs": [],
   "source": [
    "# Reading single value"
   ]
  },
  {
   "cell_type": "code",
   "execution_count": 65,
   "id": "a27089b4-7c72-4457-b254-0df41d872283",
   "metadata": {},
   "outputs": [
    {
     "data": {
      "text/plain": [
       "'Hello World'"
      ]
     },
     "execution_count": 65,
     "metadata": {},
     "output_type": "execute_result"
    }
   ],
   "source": [
    "sheet.range(\"A1\").value"
   ]
  },
  {
   "cell_type": "code",
   "execution_count": 66,
   "id": "f784e733-e925-4db9-aea5-bb8731cc8711",
   "metadata": {},
   "outputs": [
    {
     "data": {
      "text/plain": [
       "<Range [Book1]Sheet1!$A$1>"
      ]
     },
     "execution_count": 66,
     "metadata": {},
     "output_type": "execute_result"
    }
   ],
   "source": [
    "sheet.range(\"A1\")"
   ]
  },
  {
   "cell_type": "code",
   "execution_count": 67,
   "id": "dc1bb845-7fde-4339-9d95-888b78230d7c",
   "metadata": {},
   "outputs": [
    {
     "data": {
      "text/plain": [
       "'Hello World'"
      ]
     },
     "execution_count": 67,
     "metadata": {},
     "output_type": "execute_result"
    }
   ],
   "source": [
    "sheet.range((1,1)).value"
   ]
  },
  {
   "cell_type": "code",
   "execution_count": 68,
   "id": "97c7d3ab-a150-446b-a7ea-6728a0eef119",
   "metadata": {},
   "outputs": [],
   "source": [
    "sheet.range((1,2)).value = 123 #numerical value"
   ]
  },
  {
   "cell_type": "code",
   "execution_count": 69,
   "id": "7f117e28-a10a-479d-a9fd-3bed79533a87",
   "metadata": {},
   "outputs": [
    {
     "data": {
      "text/plain": [
       "123.0"
      ]
     },
     "execution_count": 69,
     "metadata": {},
     "output_type": "execute_result"
    }
   ],
   "source": [
    "sheet.range(\"B1\").value"
   ]
  },
  {
   "cell_type": "code",
   "execution_count": 70,
   "id": "0ed167cc-9f5d-4a20-a804-075a49e181be",
   "metadata": {},
   "outputs": [
    {
     "data": {
      "text/plain": [
       "123"
      ]
     },
     "execution_count": 70,
     "metadata": {},
     "output_type": "execute_result"
    }
   ],
   "source": [
    "int(sheet.range(\"B1\").value)"
   ]
  },
  {
   "cell_type": "code",
   "execution_count": 71,
   "id": "55cdfc1c-c8eb-4e38-9294-9333f3369dd9",
   "metadata": {},
   "outputs": [],
   "source": [
    "# datetime objects"
   ]
  },
  {
   "cell_type": "code",
   "execution_count": 73,
   "id": "ab0051d1-3482-458a-b736-2908e3fb6919",
   "metadata": {},
   "outputs": [],
   "source": [
    "import datetime as dt"
   ]
  },
  {
   "cell_type": "code",
   "execution_count": 84,
   "id": "d2e51863-4c45-4ffe-9889-ba8665b7f767",
   "metadata": {},
   "outputs": [
    {
     "data": {
      "text/plain": [
       "datetime.datetime(2020, 3, 20, 15, 30, 45)"
      ]
     },
     "execution_count": 84,
     "metadata": {},
     "output_type": "execute_result"
    }
   ],
   "source": [
    "date = dt.datetime(2020, 3, 20, 15, 30, 45)\n",
    "date"
   ]
  },
  {
   "cell_type": "code",
   "execution_count": 75,
   "id": "64ca8a89-5439-4607-be59-3a75812c22e5",
   "metadata": {},
   "outputs": [],
   "source": [
    "sheet.range(\"A2\").value = date"
   ]
  },
  {
   "cell_type": "code",
   "execution_count": 83,
   "id": "21d5f7d0-302e-4588-85f6-50b0052c2ed8",
   "metadata": {},
   "outputs": [
    {
     "data": {
      "text/plain": [
       "datetime.datetime(1902, 9, 26, 0, 0)"
      ]
     },
     "execution_count": 83,
     "metadata": {},
     "output_type": "execute_result"
    }
   ],
   "source": [
    "sheet.range(\"A2\").value"
   ]
  },
  {
   "cell_type": "code",
   "execution_count": 78,
   "id": "a8475af9-740a-47f0-ae96-35358669f84c",
   "metadata": {},
   "outputs": [],
   "source": [
    "sheet.range(\"A1\").clear_contents()"
   ]
  },
  {
   "cell_type": "code",
   "execution_count": 79,
   "id": "09503b83-0bcf-4324-8f72-24dea1546b17",
   "metadata": {},
   "outputs": [],
   "source": [
    "#named ranges"
   ]
  },
  {
   "cell_type": "code",
   "execution_count": 81,
   "id": "41bfcfae-4b29-4850-bcd9-b7f709f10fd1",
   "metadata": {},
   "outputs": [],
   "source": [
    "sheet.range(\"A1\").value = 1000"
   ]
  },
  {
   "cell_type": "code",
   "execution_count": 85,
   "id": "d423ff33-f7ce-4ba4-bdbe-e9faa1a8e739",
   "metadata": {},
   "outputs": [
    {
     "data": {
      "text/plain": [
       "1000.0"
      ]
     },
     "execution_count": 85,
     "metadata": {},
     "output_type": "execute_result"
    }
   ],
   "source": [
    "sheet.range(\"A1\").value"
   ]
  },
  {
   "cell_type": "code",
   "execution_count": 86,
   "id": "ebbc4f75-2e86-4dd2-b695-684bb4d3e538",
   "metadata": {},
   "outputs": [],
   "source": [
    "sheet.range(\"A1\").name = \"Number\" # dynamic handling instead of hardcoding - use named ranges."
   ]
  },
  {
   "cell_type": "code",
   "execution_count": 87,
   "id": "345efa86-6b24-4db4-a6f8-688cbc6f4455",
   "metadata": {},
   "outputs": [
    {
     "data": {
      "text/plain": [
       "1000.0"
      ]
     },
     "execution_count": 87,
     "metadata": {},
     "output_type": "execute_result"
    }
   ],
   "source": [
    "sheet.range(\"Number\").value"
   ]
  },
  {
   "cell_type": "code",
   "execution_count": 88,
   "id": "d546fbcf-4af4-4eb7-a7e0-c5c15294193c",
   "metadata": {},
   "outputs": [
    {
     "data": {
      "text/plain": [
       "<Name 'Number': =Sheet1!$A$1>"
      ]
     },
     "execution_count": 88,
     "metadata": {},
     "output_type": "execute_result"
    }
   ],
   "source": [
    "sheet.range(\"Number\").name"
   ]
  },
  {
   "cell_type": "code",
   "execution_count": 89,
   "id": "7e305df1-5431-4e0c-827a-0b7be13e81a5",
   "metadata": {},
   "outputs": [],
   "source": [
    "# sum function"
   ]
  },
  {
   "cell_type": "code",
   "execution_count": 90,
   "id": "eb7cb050-2c0b-4033-8cf8-2f8bced24fc7",
   "metadata": {},
   "outputs": [],
   "source": [
    "sheet.range(\"A3\").formula = \"=SUM(A1:A2)\""
   ]
  },
  {
   "cell_type": "code",
   "execution_count": 92,
   "id": "038214fa-878e-4922-b2ed-38526fb338e8",
   "metadata": {},
   "outputs": [
    {
     "data": {
      "text/plain": [
       "1300.0"
      ]
     },
     "execution_count": 92,
     "metadata": {},
     "output_type": "execute_result"
    }
   ],
   "source": [
    "sheet.range(\"A3\").value"
   ]
  },
  {
   "cell_type": "code",
   "execution_count": 93,
   "id": "7b921945-a240-492e-bd12-6acb52741260",
   "metadata": {},
   "outputs": [
    {
     "data": {
      "text/plain": [
       "'=SUM(A1:A2)'"
      ]
     },
     "execution_count": 93,
     "metadata": {},
     "output_type": "execute_result"
    }
   ],
   "source": [
    "sheet.range(\"A3\").formula"
   ]
  },
  {
   "cell_type": "code",
   "execution_count": 94,
   "id": "d6b12d26-706c-4acf-b63f-25d54c91dd8f",
   "metadata": {},
   "outputs": [],
   "source": [
    "sheet.range(\"B1\").formula = \"=A1\""
   ]
  },
  {
   "cell_type": "code",
   "execution_count": 97,
   "id": "2df0be03-f118-42e7-a036-c61f58706607",
   "metadata": {},
   "outputs": [
    {
     "data": {
      "text/plain": [
       "'=A1'"
      ]
     },
     "execution_count": 97,
     "metadata": {},
     "output_type": "execute_result"
    }
   ],
   "source": [
    "sheet.range(\"B1\").formula"
   ]
  },
  {
   "cell_type": "code",
   "execution_count": null,
   "id": "73a69eb0-a73a-4b46-9937-004759452fa5",
   "metadata": {},
   "outputs": [],
   "source": []
  }
 ],
 "metadata": {
  "kernelspec": {
   "display_name": "Python 3 (ipykernel)",
   "language": "python",
   "name": "python3"
  },
  "language_info": {
   "codemirror_mode": {
    "name": "ipython",
    "version": 3
   },
   "file_extension": ".py",
   "mimetype": "text/x-python",
   "name": "python",
   "nbconvert_exporter": "python",
   "pygments_lexer": "ipython3",
   "version": "3.12.4"
  }
 },
 "nbformat": 4,
 "nbformat_minor": 5
}
