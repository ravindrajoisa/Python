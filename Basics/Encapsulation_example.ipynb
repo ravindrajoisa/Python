{
 "cells": [
  {
   "cell_type": "code",
   "execution_count": 5,
   "id": "eb4e2fce-7f6f-4aea-92ef-ad8ad79d22b5",
   "metadata": {},
   "outputs": [],
   "source": [
    "# Encapulation is the concept of wrapping data (variables) and methods(functions) together as a single unit. \n",
    "# It restricts direct access to some of the objects components, which is a means of preventing accidental interference and misuse of data."
   ]
  },
  {
   "cell_type": "code",
   "execution_count": 12,
   "id": "e1a9b342-4188-4d13-b053-c4ee9e567fb6",
   "metadata": {},
   "outputs": [
    {
     "name": "stdout",
     "output_type": "stream",
     "text": [
      "<__main__.Person object at 0x000002DC5E2CB830>\n"
     ]
    }
   ],
   "source": [
    "class Person:\n",
    "    def __init__(self,name,age):\n",
    "        self.name=name ## public variables\n",
    "        self.age = age ## public variables\n",
    "\n",
    "def get_name(person):\n",
    "    return person.name\n",
    "\n",
    "person = Person(\"Ravi\", 40)\n",
    "print(person)\n",
    "\n"
   ]
  },
  {
   "cell_type": "code",
   "execution_count": 10,
   "id": "d8faf64c-5600-4ba4-977d-e6324d28a40b",
   "metadata": {},
   "outputs": [
    {
     "data": {
      "text/plain": [
       "['__class__',\n",
       " '__delattr__',\n",
       " '__dict__',\n",
       " '__dir__',\n",
       " '__doc__',\n",
       " '__eq__',\n",
       " '__format__',\n",
       " '__ge__',\n",
       " '__getattribute__',\n",
       " '__getstate__',\n",
       " '__gt__',\n",
       " '__hash__',\n",
       " '__init__',\n",
       " '__init_subclass__',\n",
       " '__le__',\n",
       " '__lt__',\n",
       " '__module__',\n",
       " '__ne__',\n",
       " '__new__',\n",
       " '__reduce__',\n",
       " '__reduce_ex__',\n",
       " '__repr__',\n",
       " '__setattr__',\n",
       " '__sizeof__',\n",
       " '__str__',\n",
       " '__subclasshook__',\n",
       " '__weakref__',\n",
       " 'age',\n",
       " 'name']"
      ]
     },
     "execution_count": 10,
     "metadata": {},
     "output_type": "execute_result"
    }
   ],
   "source": [
    "dir(person) ## Here check how the public variable age and name is mentioned."
   ]
  },
  {
   "cell_type": "code",
   "execution_count": 16,
   "id": "d4003894-fedc-4023-a01d-e508e365525b",
   "metadata": {},
   "outputs": [
    {
     "data": {
      "text/plain": [
       "['_Person__age',\n",
       " '_Person__name',\n",
       " '__class__',\n",
       " '__delattr__',\n",
       " '__dict__',\n",
       " '__dir__',\n",
       " '__doc__',\n",
       " '__eq__',\n",
       " '__format__',\n",
       " '__ge__',\n",
       " '__getattribute__',\n",
       " '__getstate__',\n",
       " '__gt__',\n",
       " '__hash__',\n",
       " '__init__',\n",
       " '__init_subclass__',\n",
       " '__le__',\n",
       " '__lt__',\n",
       " '__module__',\n",
       " '__ne__',\n",
       " '__new__',\n",
       " '__reduce__',\n",
       " '__reduce_ex__',\n",
       " '__repr__',\n",
       " '__setattr__',\n",
       " '__sizeof__',\n",
       " '__str__',\n",
       " '__subclasshook__',\n",
       " '__weakref__',\n",
       " 'gender']"
      ]
     },
     "execution_count": 16,
     "metadata": {},
     "output_type": "execute_result"
    }
   ],
   "source": [
    "class Person:\n",
    "    def __init__(self,name,age, gender):\n",
    "        self.__name=name ## private variables, double underscore is used for private\n",
    "        self.__age = age ## private variables\n",
    "        self.gender=gender\n",
    "\n",
    "# private variables cannot be accessed from outside the class as well as from derived class. It can only be accessed within the class.\n",
    "        \n",
    "person = Person(\"Ravi\", 40, \"M\")\n",
    "dir(person) ## Here check how the public variable age and name is mentioned."
   ]
  },
  {
   "cell_type": "code",
   "execution_count": 20,
   "id": "10312217-a3bc-4d9e-8d9c-6ab4eaf18c14",
   "metadata": {},
   "outputs": [
    {
     "name": "stdout",
     "output_type": "stream",
     "text": [
      "Ravi\n"
     ]
    }
   ],
   "source": [
    "class Person:\n",
    "    def __init__(self,name,age, gender):\n",
    "        self._name=name ## protected variables, single underscore is used for protected\n",
    "        self._age = age ## protected variables\n",
    "        self.gender=gender\n",
    "\n",
    "class Employee(Person):\n",
    "    def __init__(self,name,age,gender):\n",
    "        super().__init__(name,age,gender)\n",
    "# protected variables cannot be accessed from outside the class but can be accessed from the derived class.\n",
    "        \n",
    "employee = Employee(\"Ravi\", 40, \"M\")\n",
    "print(employee._name) ## Here check how the public variable age and name is mentioned."
   ]
  },
  {
   "cell_type": "code",
   "execution_count": 26,
   "id": "c6d0a7ce-267d-4763-86a7-5ea33aeddd71",
   "metadata": {},
   "outputs": [
    {
     "name": "stdout",
     "output_type": "stream",
     "text": [
      "Original Name: Ravi\n",
      "Original Age: 34\n",
      "\n",
      "Setting age to 35...\n",
      "New Age: 35\n",
      "\n",
      "Trying to set age to -5...\n",
      "Age cannot be negative.\n",
      "Age after trying to set to negative: 35\n"
     ]
    }
   ],
   "source": [
    "# Encapsulation using getter and setter\n",
    "class Person:\n",
    "    def __init__(self, name, age):\n",
    "        self.__name = name  # Private variable\n",
    "        self.__age = age    # Private variable\n",
    "\n",
    "    # Getter method for name\n",
    "    def get_name(self):\n",
    "        return self.__name\n",
    "\n",
    "    # Setter method for name\n",
    "    def set_name(self, name):\n",
    "        self.__name = name\n",
    "\n",
    "    # Getter method for age\n",
    "    def get_age(self):\n",
    "        return self.__age\n",
    "    \n",
    "    # Setter method for age\n",
    "    def set_age(self, age):  # <--- CORRECTED METHOD NAME\n",
    "        if age > 0:\n",
    "            self.__age = age\n",
    "        else:\n",
    "            print(\"Age cannot be negative.\")\n",
    "\n",
    "person = Person(\"Ravi\", 34)\n",
    "\n",
    "# Access and modify private variables using getter and setter\n",
    "print(\"Original Name:\", person.get_name())\n",
    "print(\"Original Age:\", person.get_age())\n",
    "\n",
    "print(\"\\nSetting age to 35...\")\n",
    "person.set_age(35)\n",
    "print(\"New Age:\", person.get_age())\n",
    "\n",
    "print(\"\\nTrying to set age to -5...\")\n",
    "person.set_age(-5) # This will now print the error message\n",
    "print(\"Age after trying to set to negative:\", person.get_age()) # Age remains 35"
   ]
  },
  {
   "cell_type": "code",
   "execution_count": null,
   "id": "8cd2f7d7-536d-43af-85cb-af1521f97301",
   "metadata": {},
   "outputs": [],
   "source": []
  }
 ],
 "metadata": {
  "kernelspec": {
   "display_name": "Python 3 (ipykernel)",
   "language": "python",
   "name": "python3"
  },
  "language_info": {
   "codemirror_mode": {
    "name": "ipython",
    "version": 3
   },
   "file_extension": ".py",
   "mimetype": "text/x-python",
   "name": "python",
   "nbconvert_exporter": "python",
   "pygments_lexer": "ipython3",
   "version": "3.12.4"
  }
 },
 "nbformat": 4,
 "nbformat_minor": 5
}
