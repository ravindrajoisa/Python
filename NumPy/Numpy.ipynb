{
 "cells": [
  {
   "cell_type": "code",
   "execution_count": 27,
   "id": "d4e07815-5baa-423e-b685-1b29204a1edd",
   "metadata": {},
   "outputs": [],
   "source": [
    "# importing numpy as np\n",
    "# numpy performs fast operations because of vectorization\n",
    "# can be treated as vectors and matrices from linear algebra\n",
    "\n",
    "import numpy as np"
   ]
  },
  {
   "cell_type": "code",
   "execution_count": 2,
   "id": "c14c9a64-d09d-48ae-8a63-c607d3bbb278",
   "metadata": {},
   "outputs": [],
   "source": [
    "lst = [1,2,3,4,5,6,7,8,9,10]"
   ]
  },
  {
   "cell_type": "code",
   "execution_count": 4,
   "id": "364426d7-a881-4545-aa8b-8d81ae9fdccd",
   "metadata": {},
   "outputs": [
    {
     "name": "stdout",
     "output_type": "stream",
     "text": [
      "570 ns ± 11.3 ns per loop (mean ± std. dev. of 7 runs, 1,000,000 loops each)\n"
     ]
    }
   ],
   "source": [
    "# square of each element\n",
    "\n",
    "%timeit [i**2 for i in lst]"
   ]
  },
  {
   "cell_type": "code",
   "execution_count": 11,
   "id": "e88b7c36-ad7d-4854-8281-bb158aee6bf9",
   "metadata": {},
   "outputs": [],
   "source": [
    "arr = np.array(lst)"
   ]
  },
  {
   "cell_type": "code",
   "execution_count": 12,
   "id": "c40b6a22-b15f-46ce-9ae6-7e6eda9fdb5d",
   "metadata": {},
   "outputs": [
    {
     "name": "stdout",
     "output_type": "stream",
     "text": [
      "552 ns ± 10.8 ns per loop (mean ± std. dev. of 7 runs, 1,000,000 loops each)\n"
     ]
    }
   ],
   "source": [
    "%timeit arr**2"
   ]
  },
  {
   "cell_type": "code",
   "execution_count": 13,
   "id": "43193665-fd86-4270-aa9e-944646be231e",
   "metadata": {},
   "outputs": [
    {
     "data": {
      "text/plain": [
       "[1, 2, 3, 4, 5, 6, 7, 8, 9, 10]"
      ]
     },
     "execution_count": 13,
     "metadata": {},
     "output_type": "execute_result"
    }
   ],
   "source": [
    "lst"
   ]
  },
  {
   "cell_type": "code",
   "execution_count": 14,
   "id": "86afc698-5bad-4d34-a6f7-5a9b91772dbd",
   "metadata": {},
   "outputs": [
    {
     "data": {
      "text/plain": [
       "[1, 2, 3, 4, 5, 6, 7, 8, 9, 10, 1]"
      ]
     },
     "execution_count": 14,
     "metadata": {},
     "output_type": "execute_result"
    }
   ],
   "source": [
    "lst +[1]"
   ]
  },
  {
   "cell_type": "code",
   "execution_count": 15,
   "id": "2548646e-5248-4ea1-acde-7cdac1f90cd5",
   "metadata": {},
   "outputs": [
    {
     "data": {
      "text/plain": [
       "array([ 2,  3,  4,  5,  6,  7,  8,  9, 10, 11])"
      ]
     },
     "execution_count": 15,
     "metadata": {},
     "output_type": "execute_result"
    }
   ],
   "source": [
    "arr + 1"
   ]
  },
  {
   "cell_type": "code",
   "execution_count": 18,
   "id": "f524dccb-e185-419d-98c7-671d3c4ffa0f",
   "metadata": {},
   "outputs": [],
   "source": [
    "# numpy arrray can be n dimensional >> is homogenous array"
   ]
  },
  {
   "cell_type": "code",
   "execution_count": 19,
   "id": "0d53ff5b-cf33-4179-97e4-5847c95b03ab",
   "metadata": {},
   "outputs": [],
   "source": [
    "# different ways to create np array\n",
    "# 1. np.array()\n",
    "# 2. np.arange()"
   ]
  },
  {
   "cell_type": "code",
   "execution_count": 20,
   "id": "204b22dc-f472-4831-b4af-759070b433e3",
   "metadata": {},
   "outputs": [],
   "source": [
    "l = [1,5,8,9]\n",
    "np_arr = np.array(l)"
   ]
  },
  {
   "cell_type": "code",
   "execution_count": 21,
   "id": "0168d268-1730-47e7-9674-84fd3bb98f58",
   "metadata": {},
   "outputs": [
    {
     "data": {
      "text/plain": [
       "array([1, 5, 8, 9])"
      ]
     },
     "execution_count": 21,
     "metadata": {},
     "output_type": "execute_result"
    }
   ],
   "source": [
    "np_arr"
   ]
  },
  {
   "cell_type": "code",
   "execution_count": 22,
   "id": "c0bc3081-ac10-40fe-9408-e6fee6b40db5",
   "metadata": {},
   "outputs": [
    {
     "data": {
      "text/plain": [
       "numpy.ndarray"
      ]
     },
     "execution_count": 22,
     "metadata": {},
     "output_type": "execute_result"
    }
   ],
   "source": [
    "type(np_arr)"
   ]
  },
  {
   "cell_type": "code",
   "execution_count": 23,
   "id": "73d45977-3fc1-47e3-bf3f-ca84a4a01978",
   "metadata": {},
   "outputs": [
    {
     "data": {
      "text/plain": [
       "1"
      ]
     },
     "execution_count": 23,
     "metadata": {},
     "output_type": "execute_result"
    }
   ],
   "source": [
    "np_arr.ndim"
   ]
  },
  {
   "cell_type": "code",
   "execution_count": 24,
   "id": "31281b02-2512-44ff-85ee-ba185f119468",
   "metadata": {},
   "outputs": [
    {
     "data": {
      "text/plain": [
       "(4,)"
      ]
     },
     "execution_count": 24,
     "metadata": {},
     "output_type": "execute_result"
    }
   ],
   "source": [
    "np_arr.shape"
   ]
  },
  {
   "cell_type": "code",
   "execution_count": 25,
   "id": "a2a77372-808f-45c9-b2e8-4bbd8240dc75",
   "metadata": {},
   "outputs": [],
   "source": [
    "# another way of creating np array\n",
    "\n",
    "new_arr = np.arange(3,11,2)"
   ]
  },
  {
   "cell_type": "code",
   "execution_count": 26,
   "id": "58a8e87e-9b53-4339-9886-b7fc629da2b4",
   "metadata": {},
   "outputs": [
    {
     "data": {
      "text/plain": [
       "array([3, 5, 7, 9])"
      ]
     },
     "execution_count": 26,
     "metadata": {},
     "output_type": "execute_result"
    }
   ],
   "source": [
    "new_arr"
   ]
  },
  {
   "cell_type": "code",
   "execution_count": 27,
   "id": "b0e46c20-c77e-4646-8c15-46b06579758f",
   "metadata": {},
   "outputs": [],
   "source": [
    "lst_2d = [[1,2,3],[4,5,6],[7,8,9]]"
   ]
  },
  {
   "cell_type": "code",
   "execution_count": 28,
   "id": "78eb5a08-5d71-4dff-a215-f0bb1872afe9",
   "metadata": {},
   "outputs": [],
   "source": [
    "arr_2d = np.array(lst_2d)"
   ]
  },
  {
   "cell_type": "code",
   "execution_count": 29,
   "id": "5e266d52-9cf6-435d-a2f2-b5ac3d757a0c",
   "metadata": {},
   "outputs": [
    {
     "data": {
      "text/plain": [
       "array([[1, 2, 3],\n",
       "       [4, 5, 6],\n",
       "       [7, 8, 9]])"
      ]
     },
     "execution_count": 29,
     "metadata": {},
     "output_type": "execute_result"
    }
   ],
   "source": [
    "arr_2d"
   ]
  },
  {
   "cell_type": "code",
   "execution_count": 30,
   "id": "4fb4cfda-7018-4431-a644-1d5f0ca1debc",
   "metadata": {},
   "outputs": [
    {
     "data": {
      "text/plain": [
       "2"
      ]
     },
     "execution_count": 30,
     "metadata": {},
     "output_type": "execute_result"
    }
   ],
   "source": [
    "arr_2d.ndim"
   ]
  },
  {
   "cell_type": "code",
   "execution_count": 31,
   "id": "11199bb5-1b89-4a94-8f70-91e6dcafbf28",
   "metadata": {},
   "outputs": [
    {
     "data": {
      "text/plain": [
       "(3, 3)"
      ]
     },
     "execution_count": 31,
     "metadata": {},
     "output_type": "execute_result"
    }
   ],
   "source": [
    "arr_2d.shape"
   ]
  },
  {
   "cell_type": "code",
   "execution_count": 33,
   "id": "466fb438-8333-4e82-ba9b-f4a0eb6d837e",
   "metadata": {},
   "outputs": [],
   "source": [
    "# special arrays in Numpy\n",
    "# zeros()\n",
    "# ones()\n",
    "# diag()\n",
    "# identity()"
   ]
  },
  {
   "cell_type": "code",
   "execution_count": 35,
   "id": "3ad13d11-1d74-46c8-b1e0-42b64b672407",
   "metadata": {},
   "outputs": [
    {
     "data": {
      "text/plain": [
       "array([0., 0., 0., 0., 0.])"
      ]
     },
     "execution_count": 35,
     "metadata": {},
     "output_type": "execute_result"
    }
   ],
   "source": [
    "np.zeros(5)"
   ]
  },
  {
   "cell_type": "code",
   "execution_count": 41,
   "id": "e54c6ef8-2d6c-44e5-8bc3-c93ffc8ee5fe",
   "metadata": {},
   "outputs": [
    {
     "data": {
      "text/plain": [
       "array([[1., 1., 1., 1., 1.],\n",
       "       [1., 1., 1., 1., 1.],\n",
       "       [1., 1., 1., 1., 1.],\n",
       "       [1., 1., 1., 1., 1.],\n",
       "       [1., 1., 1., 1., 1.]])"
      ]
     },
     "execution_count": 41,
     "metadata": {},
     "output_type": "execute_result"
    }
   ],
   "source": [
    "np.ones((5,5))\n",
    "# you can also use fill value"
   ]
  },
  {
   "cell_type": "code",
   "execution_count": 37,
   "id": "106dd2d4-c7da-4f00-bbee-697128009b43",
   "metadata": {},
   "outputs": [
    {
     "data": {
      "text/plain": [
       "array([[1, 0, 0],\n",
       "       [0, 2, 0],\n",
       "       [0, 0, 3]])"
      ]
     },
     "execution_count": 37,
     "metadata": {},
     "output_type": "execute_result"
    }
   ],
   "source": [
    "np.diag([1,2,3])"
   ]
  },
  {
   "cell_type": "code",
   "execution_count": 40,
   "id": "4c309f9a-ef0a-432f-8810-fb080d838050",
   "metadata": {},
   "outputs": [
    {
     "data": {
      "text/plain": [
       "array([[1., 0., 0., 0.],\n",
       "       [0., 1., 0., 0.],\n",
       "       [0., 0., 1., 0.],\n",
       "       [0., 0., 0., 1.]])"
      ]
     },
     "execution_count": 40,
     "metadata": {},
     "output_type": "execute_result"
    }
   ],
   "source": [
    "np.identity(4)\n",
    "# note: identity matrix is always a square"
   ]
  },
  {
   "cell_type": "code",
   "execution_count": 42,
   "id": "f9d7a487-791d-4452-87da-7673cf831aa4",
   "metadata": {},
   "outputs": [],
   "source": [
    "#Indexing in Array"
   ]
  },
  {
   "cell_type": "code",
   "execution_count": 48,
   "id": "ba8c0f0a-82f4-4029-a684-7a6ac287f393",
   "metadata": {
    "editable": true,
    "slideshow": {
     "slide_type": ""
    },
    "tags": []
   },
   "outputs": [
    {
     "data": {
      "text/plain": [
       "42"
      ]
     },
     "execution_count": 48,
     "metadata": {},
     "output_type": "execute_result"
    }
   ],
   "source": [
    "#generate a random number between 10 to 100\n",
    "np.random.randint(10,100)"
   ]
  },
  {
   "cell_type": "code",
   "execution_count": 50,
   "id": "ba07c2b7-a0ef-4d3e-afa5-af24fa80b188",
   "metadata": {},
   "outputs": [],
   "source": [
    "new_arr = np.random.randint(1,10, (5,4))"
   ]
  },
  {
   "cell_type": "code",
   "execution_count": 51,
   "id": "f312d321-d9bb-4ffe-98d5-205b69a231d9",
   "metadata": {},
   "outputs": [
    {
     "data": {
      "text/plain": [
       "(5, 4)"
      ]
     },
     "execution_count": 51,
     "metadata": {},
     "output_type": "execute_result"
    }
   ],
   "source": [
    "new_arr.shape"
   ]
  },
  {
   "cell_type": "code",
   "execution_count": 53,
   "id": "a65b8078-4a81-455f-80bf-dad1d0c6fc90",
   "metadata": {},
   "outputs": [
    {
     "data": {
      "text/plain": [
       "array([5, 4, 2, 5])"
      ]
     },
     "execution_count": 53,
     "metadata": {},
     "output_type": "execute_result"
    }
   ],
   "source": [
    "# first row\n",
    "new_arr[0]"
   ]
  },
  {
   "cell_type": "code",
   "execution_count": 55,
   "id": "5931bcde-585d-4a5d-b7a6-d7cb0e16e7d2",
   "metadata": {},
   "outputs": [
    {
     "data": {
      "text/plain": [
       "array([[5, 4, 2, 5],\n",
       "       [3, 7, 8, 4],\n",
       "       [8, 6, 3, 5],\n",
       "       [4, 9, 9, 9],\n",
       "       [9, 8, 1, 2]])"
      ]
     },
     "execution_count": 55,
     "metadata": {},
     "output_type": "execute_result"
    }
   ],
   "source": [
    "new_arr"
   ]
  },
  {
   "cell_type": "code",
   "execution_count": 57,
   "id": "9beb9a55-9310-4a65-ba82-d256b665b783",
   "metadata": {},
   "outputs": [
    {
     "data": {
      "text/plain": [
       "array([4, 9, 9, 9])"
      ]
     },
     "execution_count": 57,
     "metadata": {},
     "output_type": "execute_result"
    }
   ],
   "source": [
    "# second last row\n",
    "new_arr[-2]"
   ]
  },
  {
   "cell_type": "code",
   "execution_count": 59,
   "id": "61cafccd-558a-4d83-aa39-a55395d836f3",
   "metadata": {},
   "outputs": [],
   "source": [
    "# array slicing\n",
    "# arr[start_row_index:end_row_index + 1, start_column_index:end_column_index + 1]"
   ]
  },
  {
   "cell_type": "code",
   "execution_count": 62,
   "id": "e6af5897-b01f-4cf5-ad88-1c2e5f863e33",
   "metadata": {},
   "outputs": [
    {
     "data": {
      "text/plain": [
       "array([[6, 3, 5],\n",
       "       [9, 9, 9],\n",
       "       [8, 1, 2]])"
      ]
     },
     "execution_count": 62,
     "metadata": {},
     "output_type": "execute_result"
    }
   ],
   "source": [
    "new_arr[2:5, 1:4]"
   ]
  },
  {
   "cell_type": "code",
   "execution_count": 63,
   "id": "8b6ec49b-a0e5-45a4-8201-b2608ef0f690",
   "metadata": {},
   "outputs": [
    {
     "data": {
      "text/plain": [
       "array([2, 8, 3, 9, 1])"
      ]
     },
     "execution_count": 63,
     "metadata": {},
     "output_type": "execute_result"
    }
   ],
   "source": [
    "# 3rd column only\n",
    "new_arr[:,2]"
   ]
  },
  {
   "cell_type": "code",
   "execution_count": 64,
   "id": "fe3f826d-06e9-45c6-a2fe-7fb3651aeb46",
   "metadata": {},
   "outputs": [],
   "source": [
    "new_arr[0,0] = 0"
   ]
  },
  {
   "cell_type": "code",
   "execution_count": 65,
   "id": "e92aa8ad-38b6-4c88-86b8-fbff6d484411",
   "metadata": {},
   "outputs": [
    {
     "data": {
      "text/plain": [
       "array([[0, 4, 2, 5],\n",
       "       [3, 7, 8, 4],\n",
       "       [8, 6, 3, 5],\n",
       "       [4, 9, 9, 9],\n",
       "       [9, 8, 1, 2]])"
      ]
     },
     "execution_count": 65,
     "metadata": {},
     "output_type": "execute_result"
    }
   ],
   "source": [
    "new_arr"
   ]
  },
  {
   "cell_type": "code",
   "execution_count": 70,
   "id": "ba2ebc44-14eb-4434-8386-cd952846a7ca",
   "metadata": {},
   "outputs": [
    {
     "name": "stdout",
     "output_type": "stream",
     "text": [
      "[[False False False False]\n",
      " [False  True  True False]\n",
      " [ True  True False False]\n",
      " [False  True  True  True]\n",
      " [ True  True False False]]\n"
     ]
    }
   ],
   "source": [
    "# masking\n",
    "mask = new_arr > 5\n",
    "print(mask)"
   ]
  },
  {
   "cell_type": "code",
   "execution_count": 73,
   "id": "d2bc5c2f-b079-4e5d-9f7b-d12e340fb50d",
   "metadata": {},
   "outputs": [
    {
     "data": {
      "text/plain": [
       "9"
      ]
     },
     "execution_count": 73,
     "metadata": {},
     "output_type": "execute_result"
    }
   ],
   "source": [
    "# true = 1; false = 0\n",
    "# get all the values greater than 5\n",
    "np.sum(mask)"
   ]
  },
  {
   "cell_type": "code",
   "execution_count": 74,
   "id": "5079ab78-293b-402a-8382-462c300514af",
   "metadata": {},
   "outputs": [
    {
     "data": {
      "text/plain": [
       "array([7, 8, 8, 6, 9, 9, 9, 9, 8])"
      ]
     },
     "execution_count": 74,
     "metadata": {},
     "output_type": "execute_result"
    }
   ],
   "source": [
    "# get all the values greater than 5\n",
    "new_arr[mask]"
   ]
  },
  {
   "cell_type": "code",
   "execution_count": 75,
   "id": "38199c39-b326-4603-bf18-81f46846dbd7",
   "metadata": {},
   "outputs": [],
   "source": [
    "# to make a particular section zero\n",
    "new_arr[2: , 2:] = 0"
   ]
  },
  {
   "cell_type": "code",
   "execution_count": 76,
   "id": "fb98e42b-201f-4c43-b47a-d9b81997e54a",
   "metadata": {},
   "outputs": [
    {
     "data": {
      "text/plain": [
       "array([[0, 4, 2, 5],\n",
       "       [3, 7, 8, 4],\n",
       "       [8, 6, 0, 0],\n",
       "       [4, 9, 0, 0],\n",
       "       [9, 8, 0, 0]])"
      ]
     },
     "execution_count": 76,
     "metadata": {},
     "output_type": "execute_result"
    }
   ],
   "source": [
    "new_arr"
   ]
  },
  {
   "cell_type": "code",
   "execution_count": 77,
   "id": "dbc71e5d-1a17-4847-ba23-931a4e2a3723",
   "metadata": {},
   "outputs": [],
   "source": [
    "# basic operations in Array"
   ]
  },
  {
   "cell_type": "code",
   "execution_count": 12,
   "id": "818655f6-8986-42c2-803d-cc3762f34231",
   "metadata": {},
   "outputs": [],
   "source": [
    "a = np.array([10,20,30,40])\n",
    "b = np.arange(1, 5)"
   ]
  },
  {
   "cell_type": "code",
   "execution_count": 6,
   "id": "cd59bc31-f426-4bfd-9c99-6b72db06bdd8",
   "metadata": {},
   "outputs": [
    {
     "data": {
      "text/plain": [
       "array([10, 20, 30, 40])"
      ]
     },
     "execution_count": 6,
     "metadata": {},
     "output_type": "execute_result"
    }
   ],
   "source": [
    "a"
   ]
  },
  {
   "cell_type": "code",
   "execution_count": 13,
   "id": "c4f54757-7ac6-4c41-9677-dd112f338a58",
   "metadata": {},
   "outputs": [
    {
     "data": {
      "text/plain": [
       "array([1, 2, 3, 4])"
      ]
     },
     "execution_count": 13,
     "metadata": {},
     "output_type": "execute_result"
    }
   ],
   "source": [
    "b"
   ]
  },
  {
   "cell_type": "code",
   "execution_count": 18,
   "id": "fd08bf52-6a68-4e04-b063-6edfc929da21",
   "metadata": {},
   "outputs": [
    {
     "data": {
      "text/plain": [
       "array([11, 22, 33, 44])"
      ]
     },
     "execution_count": 18,
     "metadata": {},
     "output_type": "execute_result"
    }
   ],
   "source": [
    "a+b # note that both the arrays will have to be of same shape"
   ]
  },
  {
   "cell_type": "code",
   "execution_count": 15,
   "id": "d472cd0c-5365-46e3-b392-ea46ccfe2384",
   "metadata": {},
   "outputs": [
    {
     "data": {
      "text/plain": [
       "array([ 9, 18, 27, 36])"
      ]
     },
     "execution_count": 15,
     "metadata": {},
     "output_type": "execute_result"
    }
   ],
   "source": [
    "a-b"
   ]
  },
  {
   "cell_type": "code",
   "execution_count": 16,
   "id": "1df8e440-2a7f-4f9e-853e-3a345b6d62ca",
   "metadata": {},
   "outputs": [
    {
     "data": {
      "text/plain": [
       "array([ 10,  40,  90, 160])"
      ]
     },
     "execution_count": 16,
     "metadata": {},
     "output_type": "execute_result"
    }
   ],
   "source": [
    "a*b"
   ]
  },
  {
   "cell_type": "code",
   "execution_count": 17,
   "id": "d47fe8ac-50ca-485c-93bd-cf4ab9073058",
   "metadata": {},
   "outputs": [
    {
     "data": {
      "text/plain": [
       "array([ 1,  4,  9, 16])"
      ]
     },
     "execution_count": 17,
     "metadata": {},
     "output_type": "execute_result"
    }
   ],
   "source": [
    "b**2"
   ]
  },
  {
   "cell_type": "code",
   "execution_count": 19,
   "id": "9ab47881-f022-4aa3-8cf5-989cab98b39b",
   "metadata": {},
   "outputs": [
    {
     "data": {
      "text/plain": [
       "array([False,  True,  True,  True])"
      ]
     },
     "execution_count": 19,
     "metadata": {},
     "output_type": "execute_result"
    }
   ],
   "source": [
    "# masking\n",
    "a> 15"
   ]
  },
  {
   "cell_type": "code",
   "execution_count": 20,
   "id": "bde3591f-ca27-473f-af6b-5482bd1e267f",
   "metadata": {},
   "outputs": [
    {
     "data": {
      "text/plain": [
       "array([0.        , 0.69314718, 1.09861229, 1.38629436])"
      ]
     },
     "execution_count": 20,
     "metadata": {},
     "output_type": "execute_result"
    }
   ],
   "source": [
    "np.log(b)"
   ]
  },
  {
   "cell_type": "code",
   "execution_count": 22,
   "id": "9aa40027-97d4-4328-afb1-fd5b758043e2",
   "metadata": {},
   "outputs": [
    {
     "data": {
      "text/plain": [
       "array([-0.54402111,  0.91294525, -0.98803162,  0.74511316])"
      ]
     },
     "execution_count": 22,
     "metadata": {},
     "output_type": "execute_result"
    }
   ],
   "source": [
    "np.sin(a)"
   ]
  },
  {
   "cell_type": "code",
   "execution_count": 29,
   "id": "fe6d277f-a624-4abc-b3cd-e93afffcd560",
   "metadata": {},
   "outputs": [],
   "source": [
    "A = np.random.randint(0,5, (3,4))\n",
    "B = np.random.randint(0,5, (4,2))"
   ]
  },
  {
   "cell_type": "code",
   "execution_count": 30,
   "id": "b2f1a065-07ed-4aa2-aac6-1869493955a6",
   "metadata": {},
   "outputs": [
    {
     "data": {
      "text/plain": [
       "array([[1, 0, 2, 4],\n",
       "       [0, 4, 1, 0],\n",
       "       [3, 3, 2, 1]])"
      ]
     },
     "execution_count": 30,
     "metadata": {},
     "output_type": "execute_result"
    }
   ],
   "source": [
    "A"
   ]
  },
  {
   "cell_type": "code",
   "execution_count": 31,
   "id": "17fe5537-7e3b-4f60-8d51-0d96d3fb9379",
   "metadata": {},
   "outputs": [
    {
     "data": {
      "text/plain": [
       "array([[1, 1],\n",
       "       [2, 1],\n",
       "       [2, 2],\n",
       "       [0, 0]])"
      ]
     },
     "execution_count": 31,
     "metadata": {},
     "output_type": "execute_result"
    }
   ],
   "source": [
    "B"
   ]
  },
  {
   "cell_type": "code",
   "execution_count": 32,
   "id": "22e5126f-a4de-49b4-924f-d3ebe5d583e9",
   "metadata": {},
   "outputs": [
    {
     "data": {
      "text/plain": [
       "array([[ 5,  5],\n",
       "       [10,  6],\n",
       "       [13, 10]])"
      ]
     },
     "execution_count": 32,
     "metadata": {},
     "output_type": "execute_result"
    }
   ],
   "source": [
    "# dot product\n",
    "# here the first element of the result is obtained by multiplying each elements in 1st row of first array with \n",
    "# each element in 1st column of second array and then adding it.\n",
    "np.dot(A,B)"
   ]
  },
  {
   "cell_type": "code",
   "execution_count": 33,
   "id": "dbd42f63-6d6c-4b4e-bda1-7a27efba4e01",
   "metadata": {},
   "outputs": [],
   "source": [
    "A = np.arange(0,24)"
   ]
  },
  {
   "cell_type": "code",
   "execution_count": 34,
   "id": "7903c187-a99f-4c24-a4cb-7096a2ae406b",
   "metadata": {},
   "outputs": [
    {
     "data": {
      "text/plain": [
       "array([ 0,  1,  2,  3,  4,  5,  6,  7,  8,  9, 10, 11, 12, 13, 14, 15, 16,\n",
       "       17, 18, 19, 20, 21, 22, 23])"
      ]
     },
     "execution_count": 34,
     "metadata": {},
     "output_type": "execute_result"
    }
   ],
   "source": [
    "A"
   ]
  },
  {
   "cell_type": "code",
   "execution_count": 35,
   "id": "27131b4b-bcb7-4b85-9a87-20f9c308cfeb",
   "metadata": {},
   "outputs": [],
   "source": [
    "A = A.reshape(6,4)"
   ]
  },
  {
   "cell_type": "code",
   "execution_count": 36,
   "id": "bf032485-d861-4800-85ea-b99294caec78",
   "metadata": {},
   "outputs": [
    {
     "data": {
      "text/plain": [
       "array([[ 0,  1,  2,  3],\n",
       "       [ 4,  5,  6,  7],\n",
       "       [ 8,  9, 10, 11],\n",
       "       [12, 13, 14, 15],\n",
       "       [16, 17, 18, 19],\n",
       "       [20, 21, 22, 23]])"
      ]
     },
     "execution_count": 36,
     "metadata": {},
     "output_type": "execute_result"
    }
   ],
   "source": [
    "A"
   ]
  },
  {
   "cell_type": "code",
   "execution_count": 37,
   "id": "409f4a5d-dd1f-4aab-9157-be26c34dabcf",
   "metadata": {},
   "outputs": [
    {
     "data": {
      "text/plain": [
       "array([[0.        , 1.        , 1.41421356, 1.73205081],\n",
       "       [2.        , 2.23606798, 2.44948974, 2.64575131],\n",
       "       [2.82842712, 3.        , 3.16227766, 3.31662479],\n",
       "       [3.46410162, 3.60555128, 3.74165739, 3.87298335],\n",
       "       [4.        , 4.12310563, 4.24264069, 4.35889894],\n",
       "       [4.47213595, 4.58257569, 4.69041576, 4.79583152]])"
      ]
     },
     "execution_count": 37,
     "metadata": {},
     "output_type": "execute_result"
    }
   ],
   "source": [
    "np.sqrt(A)"
   ]
  },
  {
   "cell_type": "code",
   "execution_count": 38,
   "id": "40dcedfa-3ef1-4a75-a96a-ae11498d4731",
   "metadata": {},
   "outputs": [
    {
     "data": {
      "text/plain": [
       "276"
      ]
     },
     "execution_count": 38,
     "metadata": {},
     "output_type": "execute_result"
    }
   ],
   "source": [
    "np.sum(A)"
   ]
  },
  {
   "cell_type": "code",
   "execution_count": 39,
   "id": "fae17f2c-c4f5-4d91-bcc6-ba7ff7fda225",
   "metadata": {},
   "outputs": [
    {
     "data": {
      "text/plain": [
       "23"
      ]
     },
     "execution_count": 39,
     "metadata": {},
     "output_type": "execute_result"
    }
   ],
   "source": [
    "np.max(A)"
   ]
  },
  {
   "cell_type": "code",
   "execution_count": 40,
   "id": "a9134e13-58af-4d3f-9fed-67286545d0a5",
   "metadata": {},
   "outputs": [
    {
     "data": {
      "text/plain": [
       "11.5"
      ]
     },
     "execution_count": 40,
     "metadata": {},
     "output_type": "execute_result"
    }
   ],
   "source": [
    "np.mean(A)"
   ]
  },
  {
   "cell_type": "code",
   "execution_count": 41,
   "id": "5233c0f3-e1a8-4d9c-b2b6-b3e618d65895",
   "metadata": {},
   "outputs": [
    {
     "data": {
      "text/plain": [
       "6.922186552431729"
      ]
     },
     "execution_count": 41,
     "metadata": {},
     "output_type": "execute_result"
    }
   ],
   "source": [
    "np.std(A)"
   ]
  },
  {
   "cell_type": "code",
   "execution_count": 42,
   "id": "32dc83f3-f402-4cb3-b66c-5fee7eb3befb",
   "metadata": {},
   "outputs": [
    {
     "data": {
      "text/plain": [
       "array([[ 0,  1,  2,  3],\n",
       "       [ 4,  5,  6,  7],\n",
       "       [ 8,  9, 10, 11],\n",
       "       [12, 13, 14, 15],\n",
       "       [16, 17, 18, 19],\n",
       "       [20, 21, 22, 23]])"
      ]
     },
     "execution_count": 42,
     "metadata": {},
     "output_type": "execute_result"
    }
   ],
   "source": [
    "A"
   ]
  },
  {
   "cell_type": "code",
   "execution_count": 44,
   "id": "efb190ef-370a-47eb-adcb-301d8ac25e0b",
   "metadata": {},
   "outputs": [
    {
     "data": {
      "text/plain": [
       "array([60, 66, 72, 78])"
      ]
     },
     "execution_count": 44,
     "metadata": {},
     "output_type": "execute_result"
    }
   ],
   "source": [
    "# sum column wise\n",
    "np.sum(A, axis=0)"
   ]
  },
  {
   "cell_type": "code",
   "execution_count": 45,
   "id": "2e9ab427-3879-42ca-ac01-665cbca339f7",
   "metadata": {},
   "outputs": [
    {
     "data": {
      "text/plain": [
       "array([ 6, 22, 38, 54, 70, 86])"
      ]
     },
     "execution_count": 45,
     "metadata": {},
     "output_type": "execute_result"
    }
   ],
   "source": [
    "# sum row wise\n",
    "np.sum(A, axis=1)"
   ]
  },
  {
   "cell_type": "code",
   "execution_count": 46,
   "id": "50a0c2ed-afe6-490e-bfbc-b471bde402f2",
   "metadata": {},
   "outputs": [
    {
     "data": {
      "text/plain": [
       "array([ 1.5,  5.5,  9.5, 13.5, 17.5, 21.5])"
      ]
     },
     "execution_count": 46,
     "metadata": {},
     "output_type": "execute_result"
    }
   ],
   "source": [
    "np.mean(A, axis=1)"
   ]
  },
  {
   "cell_type": "code",
   "execution_count": 47,
   "id": "7caebda4-8c58-4cde-9d90-9c4ea486d1ca",
   "metadata": {},
   "outputs": [
    {
     "data": {
      "text/plain": [
       "array([[ 0,  1,  2,  3],\n",
       "       [ 4,  5,  6,  7],\n",
       "       [ 8,  9, 10, 11],\n",
       "       [12, 13, 14, 15],\n",
       "       [16, 17, 18, 19],\n",
       "       [20, 21, 22, 23]])"
      ]
     },
     "execution_count": 47,
     "metadata": {},
     "output_type": "execute_result"
    }
   ],
   "source": [
    "A"
   ]
  },
  {
   "cell_type": "code",
   "execution_count": 48,
   "id": "15a6f09a-bad0-489a-80fd-9d8674530c76",
   "metadata": {},
   "outputs": [
    {
     "data": {
      "text/plain": [
       "array([ 0,  1,  2,  3,  4,  5,  6,  7,  8,  9, 10, 11, 12, 13, 14, 15, 16,\n",
       "       17, 18, 19, 20, 21, 22, 23])"
      ]
     },
     "execution_count": 48,
     "metadata": {},
     "output_type": "execute_result"
    }
   ],
   "source": [
    "A.flatten()"
   ]
  },
  {
   "cell_type": "code",
   "execution_count": 49,
   "id": "648377df-8c50-4816-b057-841ebf2fda31",
   "metadata": {},
   "outputs": [
    {
     "data": {
      "text/plain": [
       "array([[ 0,  1,  2],\n",
       "       [ 3,  4,  5],\n",
       "       [ 6,  7,  8],\n",
       "       [ 9, 10, 11],\n",
       "       [12, 13, 14],\n",
       "       [15, 16, 17],\n",
       "       [18, 19, 20],\n",
       "       [21, 22, 23]])"
      ]
     },
     "execution_count": 49,
     "metadata": {},
     "output_type": "execute_result"
    }
   ],
   "source": [
    "A.reshape(8,3)"
   ]
  },
  {
   "cell_type": "code",
   "execution_count": 54,
   "id": "2046e1fa-ddbf-4515-887f-03590e8b9240",
   "metadata": {},
   "outputs": [
    {
     "data": {
      "text/plain": [
       "array([[ 0,  1,  2,  3],\n",
       "       [ 4,  5,  6,  7],\n",
       "       [ 8,  9, 10, 11],\n",
       "       [12, 13, 14, 15],\n",
       "       [16, 17, 18, 19],\n",
       "       [20, 21, 22, 23]])"
      ]
     },
     "execution_count": 54,
     "metadata": {},
     "output_type": "execute_result"
    }
   ],
   "source": [
    "A"
   ]
  },
  {
   "cell_type": "code",
   "execution_count": 53,
   "id": "8281ce52-021c-49af-a450-cc4384632616",
   "metadata": {},
   "outputs": [
    {
     "data": {
      "text/plain": [
       "array([[ 0,  4,  8, 12, 16, 20],\n",
       "       [ 1,  5,  9, 13, 17, 21],\n",
       "       [ 2,  6, 10, 14, 18, 22],\n",
       "       [ 3,  7, 11, 15, 19, 23]])"
      ]
     },
     "execution_count": 53,
     "metadata": {},
     "output_type": "execute_result"
    }
   ],
   "source": [
    "# transpose\n",
    "np.transpose(A)"
   ]
  },
  {
   "cell_type": "code",
   "execution_count": 55,
   "id": "4e19645f-9962-4d25-95c9-33a635aa6060",
   "metadata": {},
   "outputs": [
    {
     "data": {
      "text/plain": [
       "array([[ 0,  4,  8, 12, 16, 20],\n",
       "       [ 1,  5,  9, 13, 17, 21],\n",
       "       [ 2,  6, 10, 14, 18, 22],\n",
       "       [ 3,  7, 11, 15, 19, 23]])"
      ]
     },
     "execution_count": 55,
     "metadata": {},
     "output_type": "execute_result"
    }
   ],
   "source": [
    "A.T"
   ]
  },
  {
   "cell_type": "code",
   "execution_count": 62,
   "id": "3db91416-1395-49c4-8044-8ec0bc19a9a2",
   "metadata": {},
   "outputs": [],
   "source": [
    "# stacking of arrays - vstack, hstack"
   ]
  },
  {
   "cell_type": "code",
   "execution_count": 63,
   "id": "a3446eba-1e8c-4de2-ae87-eef18912103d",
   "metadata": {},
   "outputs": [],
   "source": [
    "a = np.random.randint(0,10,(2,2))\n",
    "b = np.random.randint(0,10,(2,2))"
   ]
  },
  {
   "cell_type": "code",
   "execution_count": 64,
   "id": "d280830a-ee7b-4b75-9b9a-306217c41452",
   "metadata": {},
   "outputs": [
    {
     "data": {
      "text/plain": [
       "array([[5, 2],\n",
       "       [9, 4]])"
      ]
     },
     "execution_count": 64,
     "metadata": {},
     "output_type": "execute_result"
    }
   ],
   "source": [
    "a"
   ]
  },
  {
   "cell_type": "code",
   "execution_count": 65,
   "id": "cd35b93b-bfa3-4937-adcd-e60f80ac8896",
   "metadata": {},
   "outputs": [
    {
     "data": {
      "text/plain": [
       "array([[3, 9],\n",
       "       [2, 9]])"
      ]
     },
     "execution_count": 65,
     "metadata": {},
     "output_type": "execute_result"
    }
   ],
   "source": [
    "b"
   ]
  },
  {
   "cell_type": "code",
   "execution_count": 66,
   "id": "4de5179f-eb39-4b8c-9ee0-70b29a7e369d",
   "metadata": {},
   "outputs": [
    {
     "data": {
      "text/plain": [
       "array([[5, 2, 3, 9],\n",
       "       [9, 4, 2, 9]])"
      ]
     },
     "execution_count": 66,
     "metadata": {},
     "output_type": "execute_result"
    }
   ],
   "source": [
    "np.hstack((a,b))"
   ]
  },
  {
   "cell_type": "code",
   "execution_count": 67,
   "id": "4785818c-1578-478f-8866-8d404b29cbf5",
   "metadata": {},
   "outputs": [
    {
     "data": {
      "text/plain": [
       "array([[5, 2],\n",
       "       [9, 4],\n",
       "       [3, 9],\n",
       "       [2, 9]])"
      ]
     },
     "execution_count": 67,
     "metadata": {},
     "output_type": "execute_result"
    }
   ],
   "source": [
    "np.vstack((a,b))"
   ]
  },
  {
   "cell_type": "code",
   "execution_count": 71,
   "id": "f73420f0-d47a-4cfa-b741-e6e8921970ba",
   "metadata": {},
   "outputs": [],
   "source": [
    "# Broadcasting - different shaped arrays can perform operations. \n",
    "# A small array can repeat itself and convert to the same shape as of another array."
   ]
  },
  {
   "cell_type": "code",
   "execution_count": 72,
   "id": "b320e6a4-54a2-4a13-a121-6cd36591adc3",
   "metadata": {},
   "outputs": [],
   "source": [
    "A = np.random.randint(0,10, size=(3,3))\n",
    "a = np.array([[1,2,3]])"
   ]
  },
  {
   "cell_type": "code",
   "execution_count": 73,
   "id": "cff71bbd-9dd2-419e-bf38-8280abb822fd",
   "metadata": {},
   "outputs": [
    {
     "data": {
      "text/plain": [
       "array([[6, 6, 6],\n",
       "       [3, 4, 3],\n",
       "       [3, 1, 6]])"
      ]
     },
     "execution_count": 73,
     "metadata": {},
     "output_type": "execute_result"
    }
   ],
   "source": [
    "A"
   ]
  },
  {
   "cell_type": "code",
   "execution_count": 74,
   "id": "e3b93ac2-59aa-475f-909e-2815052d1408",
   "metadata": {},
   "outputs": [
    {
     "data": {
      "text/plain": [
       "array([[1, 2, 3]])"
      ]
     },
     "execution_count": 74,
     "metadata": {},
     "output_type": "execute_result"
    }
   ],
   "source": [
    "a"
   ]
  },
  {
   "cell_type": "code",
   "execution_count": 75,
   "id": "9d877b0f-5815-41cc-87ac-c5dcbd1ad93c",
   "metadata": {},
   "outputs": [
    {
     "name": "stdout",
     "output_type": "stream",
     "text": [
      "(3, 3) (1, 3)\n"
     ]
    }
   ],
   "source": [
    "print(A.shape, a.shape)"
   ]
  },
  {
   "cell_type": "code",
   "execution_count": 77,
   "id": "fba8e6ff-09de-4cff-a7ad-801bcaae60f4",
   "metadata": {},
   "outputs": [
    {
     "data": {
      "text/plain": [
       "array([[7, 8, 9],\n",
       "       [4, 6, 6],\n",
       "       [4, 3, 9]])"
      ]
     },
     "execution_count": 77,
     "metadata": {},
     "output_type": "execute_result"
    }
   ],
   "source": [
    "A+a\n",
    "# here even though there is just one row in a, \n",
    "# it will replicate itself into 3 rows with same content as the first row and make itself a 3*3 array and then add."
   ]
  },
  {
   "cell_type": "code",
   "execution_count": 78,
   "id": "025bb1be-b69e-4f7d-a80a-df2279fb53dc",
   "metadata": {},
   "outputs": [
    {
     "data": {
      "text/plain": [
       "array([[1],\n",
       "       [2],\n",
       "       [3]])"
      ]
     },
     "execution_count": 78,
     "metadata": {},
     "output_type": "execute_result"
    }
   ],
   "source": [
    "a.T"
   ]
  },
  {
   "cell_type": "code",
   "execution_count": 79,
   "id": "14fdb43d-a275-43cf-8f11-50efc797c27a",
   "metadata": {},
   "outputs": [
    {
     "data": {
      "text/plain": [
       "array([[7, 7, 7],\n",
       "       [5, 6, 5],\n",
       "       [6, 4, 9]])"
      ]
     },
     "execution_count": 79,
     "metadata": {},
     "output_type": "execute_result"
    }
   ],
   "source": [
    "A+a.T # here its first transposed, broadcasted and then added."
   ]
  },
  {
   "cell_type": "code",
   "execution_count": 80,
   "id": "491468c5-697d-466d-8f98-2be4799f08f2",
   "metadata": {},
   "outputs": [
    {
     "data": {
      "text/plain": [
       "array([[10, 10, 10],\n",
       "       [ 7,  8,  7],\n",
       "       [ 7,  5, 10]])"
      ]
     },
     "execution_count": 80,
     "metadata": {},
     "output_type": "execute_result"
    }
   ],
   "source": [
    "A+4"
   ]
  },
  {
   "cell_type": "code",
   "execution_count": 84,
   "id": "350d78ba-7089-453d-9720-c0880c8cb6ab",
   "metadata": {},
   "outputs": [],
   "source": [
    "# Vectorization - performing operations directly on arrays"
   ]
  },
  {
   "cell_type": "code",
   "execution_count": 83,
   "id": "29716f47-083f-4030-9071-2c0dc4cae302",
   "metadata": {},
   "outputs": [],
   "source": [
    "p1 = np.array([1,2])\n",
    "p2 = np.array([5,5])"
   ]
  },
  {
   "cell_type": "code",
   "execution_count": 86,
   "id": "715b4ca4-9737-472f-b285-243a7b2704a7",
   "metadata": {},
   "outputs": [
    {
     "name": "stdout",
     "output_type": "stream",
     "text": [
      "5.0\n"
     ]
    }
   ],
   "source": [
    "s = 0\n",
    "for i in range(2):\n",
    "    s += (p2[i] - p1[i])**2\n",
    "print(s**0.5)"
   ]
  },
  {
   "cell_type": "code",
   "execution_count": 89,
   "id": "d4c4928a-534b-4d65-8f67-95564459b94e",
   "metadata": {},
   "outputs": [],
   "source": [
    "# loop is not efficient\n",
    "# here is the effiicent code using vectorization"
   ]
  },
  {
   "cell_type": "code",
   "execution_count": 93,
   "id": "aaaf2408-6a79-426d-9cf6-ac16467803f4",
   "metadata": {},
   "outputs": [
    {
     "data": {
      "text/plain": [
       "7.0"
      ]
     },
     "execution_count": 93,
     "metadata": {},
     "output_type": "execute_result"
    }
   ],
   "source": [
    "np.sqrt(np.sum(p2-p1)**2)"
   ]
  },
  {
   "cell_type": "code",
   "execution_count": null,
   "id": "817f3b49-d94d-493f-8ffb-6b9da8c69eea",
   "metadata": {},
   "outputs": [],
   "source": []
  }
 ],
 "metadata": {
  "kernelspec": {
   "display_name": "Python 3 (ipykernel)",
   "language": "python",
   "name": "python3"
  },
  "language_info": {
   "codemirror_mode": {
    "name": "ipython",
    "version": 3
   },
   "file_extension": ".py",
   "mimetype": "text/x-python",
   "name": "python",
   "nbconvert_exporter": "python",
   "pygments_lexer": "ipython3",
   "version": "3.12.4"
  }
 },
 "nbformat": 4,
 "nbformat_minor": 5
}
