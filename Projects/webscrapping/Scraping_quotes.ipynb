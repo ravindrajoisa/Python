{
 "cells": [
  {
   "cell_type": "code",
   "execution_count": 1,
   "id": "e44de936-b252-44b3-ad4e-aed5f3b19cc6",
   "metadata": {},
   "outputs": [],
   "source": [
    "# Scraping Inspirational quotes\n",
    "# from the website https://www.passiton.com/inspirational-quotes"
   ]
  },
  {
   "cell_type": "code",
   "execution_count": 2,
   "id": "019c4918-9f0a-422f-ad9d-ed959c5db41c",
   "metadata": {},
   "outputs": [],
   "source": [
    "import requests\n",
    "import bs4"
   ]
  },
  {
   "cell_type": "code",
   "execution_count": 3,
   "id": "149bab80-a75d-4102-8120-d5be06990a84",
   "metadata": {},
   "outputs": [],
   "source": [
    "url = 'https://www.passiton.com/inspirational-quotes'"
   ]
  },
  {
   "cell_type": "code",
   "execution_count": 4,
   "id": "74df91d9-4dac-4692-a39e-1e26f726227e",
   "metadata": {},
   "outputs": [],
   "source": [
    "res = requests.get(url)"
   ]
  },
  {
   "cell_type": "code",
   "execution_count": 5,
   "id": "7e89d9d6-6ac8-4eb8-b230-11f0d0632f03",
   "metadata": {},
   "outputs": [
    {
     "data": {
      "text/plain": [
       "200"
      ]
     },
     "execution_count": 5,
     "metadata": {},
     "output_type": "execute_result"
    }
   ],
   "source": [
    "res.status_code"
   ]
  },
  {
   "cell_type": "code",
   "execution_count": 6,
   "id": "0c87a897-5105-4fea-b4c9-e6e45989c3ae",
   "metadata": {},
   "outputs": [
    {
     "data": {
      "text/plain": [
       "b'<!DOCTYPE html>\\n<html class=\"no-js\" dir=\"ltr\" lang=\"en-US\">\\n<head>\\n  <meta charset=\"utf-8\">\\n  <meta http-equiv=\"content-type\" content=\"text/html; charset=utf-8\" />\\n  <meta http-equiv=\"X-UA-Compatible\" content=\"IE=edge\" />\\n  <meta name=\"viewport\" content=\"width=device-width,initial-scale=1.0\" />\\n  <title>Inspirational Quotes - Motivational Quotes - | The Foundation for a Better Life</title>\\n<meta name=\"description\" content=\"Find the perfect quotation from our hand-picked collection of inspiring quotes by hundreds of authors.\">\\n<meta name=\"keywords\" content=\"pass, it, on, passiton, values, kindness\">\\n<meta name=\"twitter:site_name\" content=\"The Foundation for a Better Life\">\\n<meta name=\"twitter:site\" content=\"@passiton_values\">\\n<meta name=\"twitter:card\" content=\"summary\">\\n<meta name=\"twitter:description\" content=\"Thank you for visiting.\">\\n<meta name=\"twitter:image\" content=\"https://www.passiton.com/passiton_fbl.jpg\">\\n<meta property=\"og:url\" content=\"https://www.passiton.com/inspirational-quotes\">\\n<meta property=\"og:site_name\" content=\"The Foundation for a Better Life\">\\n<meta property=\"og:title\" content=\"Welcome to PassItOn.com\">\\n<meta property=\"og:image\" content=\"https://www.passiton.com/passiton_fbl.jpg\">\\n<meta property=\"og:description\" content=\"Thank you for visiting.\">\\n<meta property=\"og:type\" content=\"website\">\\n  <link rel=\"apple-touch-icon\" sizes=\"180x180\" href=\"/apple-touch-icon.png\">\\n  <link rel=\"icon\" type=\"image/png\" sizes=\"32x32\" href=\"/favicon-32x32.png\">\\n  <link rel=\"icon\" type=\"image/png\" sizes=\"16x16\" href=\"/favicon-16x16.png\">\\n  <link rel=\"manifest\" href=\"/site.webmanifest\">\\n  <link rel=\"mask-icon\" href=\"/safari-pinned-tab.svg\" color=\"#c8102e\">\\n  <meta name=\"msapplication-TileColor\" content=\"#ffffff\">\\n  <meta name=\"theme-color\" content=\"#ffffff\">\\n  <script src=\"https://challenges.cloudflare.com/turnstile/v0/api.js\" data-turbo-track=\"reload\" defer=\"defer\"></script>\\n  <link rel=\"stylesheet\" href=\"https://stackpath.bootstrapcdn.com/bootstrap/4.3.1/css/bootstrap.min.css\" integrity=\"sha384-ggOyR0iXCbMQv3Xipma34MD+dH/1fQ784/j6cY/iJTQUOhcWr7x9JvoRxT2MZw1T\" crossorigin=\"anonymous\">\\n  <link rel=\"stylesheet\" href=\"/assets/application-cc37d1919f01382320c35b46818c408f83e9af2d6a01a3d7ad32ab25d4345659.css\" data-turbo-track=\"reload\" />\\n  <meta name=\"csrf-param\" content=\"authenticity_token\" />\\n<meta name=\"csrf-token\" content=\"QJve1k3xs7x0ouf6BXLRmA2zvNe__k1FlZkCBLBRAF5kHy1C1r9nMPiHcOwsBgt6ZRfdCLzBObIbR3u2DRZxiQ\" />\\n  \\n  <link rel=\"alternate\" type=\"application/rss+xml\" title=\"RSS\" href=\"https://www.passiton.com/inspirational-quotes.atom\" />\\n\\n<script defer data-domain=\"passiton.com\" src=\"https://plausible.io/js/script.file-downloads.hash.outbound-links.pageview-props.tagged-events.js\"></script>\\n</head>\\n<body class=\\'no-transition quotes_index\\'>\\n  \\n          <header>\\n          <nav class=\"navbar navbar-default bootsnav background-transparent header-dark white-link navbar-fixed-top navbar-expand-lg nav-box-width\">\\n            <div class=\"container-fluid nav-header-container\">\\n\\n              <div class=\"col-auto pl-0\">\\n                <a class=\"logo\" title=\"Pass It On\\xc2\\xae\" href=\"/\"><img data-rjs=\"/assets/site/logo@2x-a5b7e9de4b8595ff3fc94c64e245592585dda8a14753ab6d4ce6a8e56155f543.png\" class=\"logo-dark\" alt=\"Pass It On\" src=\"/assets/site/logo-addf119432237cf6c743df6160193cf0c428b2bb9f6f258fef3f3fa1c710dd59.png\" /><img data-rjs=\"/assets/site/logo-white@2x-d49e37762eb5c6805d094397a8bca8b53d38c872c1fc54195093caff0208ad77.png\" class=\"logo-light default\" alt=\"Pass It On\" src=\"/assets/site/logo-white-cc0fccfb11de6149582eafd4805e8422c93875f0df879d387c1ac38a36dbead8.png\" /></a>\\n              </div>\\n\\n              <div class=\"col accordion-menu pr-0 pr-md-3\">\\n                <button type=\"button\" class=\"navbar-toggler collapsed\" data-toggle=\"collapse\" data-target=\"#navbar-collapse-toggle-1\">\\n                  <span class=\"sr-only\">toggle navigation</span><span class=\"icon-bar\"></span><span class=\"icon-bar\"></span><span class=\"icon-bar\"></span>\\n                </button>\\n                <div class=\"navbar-collapse collapse justify-content-end\" id=\"navbar-collapse-toggle-1\">\\n                  <ul id=\"accordion\" class=\"nav navbar-nav navbar-left no-margin alt-font text-normal\" data-in=\"fadeIn\" data-out=\"fadeOut\">\\n                    <li><a href=\"/inspirational-quotes\">Quotes</a></li>\\n                    <li class=\"dropdown simple-dropdown\"><a href=\"/inspirational-stories-tv-spots\">Videos <i class=\\'fas fa-caret-down d-none d-lg-inline\\' aria-hidden=\\'true\\'></i></a><i class=\"fas fa-caret-down dropdown-toggle\" data-toggle=\"dropdown\" aria-hidden=\"true\"></i>\\n                      <ul class=\"dropdown-menu\" role=\"menu\">\\n                        <li><a href=\"/inspirational-stories-tv-spots\">Official Pass It On\\xc2\\xae Videos</a></li>\\n                        <li><a href=\"/artcenter-psas\">ArtCenter College of Design PSAs</a></li>\\n                      </ul>\\n                    </li>\\n                    <li class=\"dropdown simple-dropdown\"><a href=\"/inspirational-sayings-billboards\">Billboards <i class=\\'fas fa-caret-down d-none d-lg-inline\\' aria-hidden=\\'true\\'></i></a><i class=\"fas fa-caret-down dropdown-toggle\" data-toggle=\"dropdown\" aria-hidden=\"true\"></i>\\n                      <ul class=\"dropdown-menu\" role=\"menu\">\\n                        <li><a href=\"/inspirational-sayings-billboards\">Official Billboards</a></li>\\n                        <li><a href=\"/is-in-you\">Is In You\\xc2\\xae Billboards</a></li>\\n                      </ul>\\n                    </li>\\n                    <li class=\"dropdown simple-dropdown\"><a href=\"/positive-good-news-stories\">Stories <i class=\\'fas fa-caret-down d-none d-lg-inline\\' aria-hidden=\\'true\\'></i></a><i class=\"fas fa-caret-down dropdown-toggle\" data-toggle=\"dropdown\" aria-hidden=\"true\"></i>\\n                      <ul class=\"dropdown-menu\" role=\"menu\">\\n                        <li><a href=\"/positive-good-news-stories\">Positive Good News Stories</a></li>\\n                        <li><a href=\"/free-ebook/download\"><span class=\\'new\\'>FREE</span> PassItOn\\xc2\\xae Stories eBook</a></li>\\n                      </ul>\\n                    </li>\\n                    <li><a href=\"/inspirational-audio-stories\">Podcast</a></li>\\n                    <li><a href=\"/radio\">Radio</a></li>\\n                    <li><a href=\"/passiton-blog\">Blog</a></li>\\n                    <li class=\"dropdown simple-dropdown\"><a href=\"/poster-requests/new\">Schools <i class=\\'fas fa-caret-down d-none d-lg-inline\\' aria-hidden=\\'true\\'></i></a><i class=\"fas fa-caret-down dropdown-toggle\" data-toggle=\"dropdown\" aria-hidden=\"true\"></i>\\n                      <ul class=\"dropdown-menu\" role=\"menu\">\\n                        <li><a href=\"/poster-requests/new\">FREE Posters</a></li>\\n                        <li><a href=\"/free-ebook/download\"><span class=\\'new\\'>FREE</span> PassItOn\\xc2\\xae Stories eBook</a></li>\\n                        <li><a href=\"/positive-good-news-stories\"><span class=\\'new\\'>NEW</span> Inspirational Stories</a></li>\\n                        <li><a href=\"/pass-it-on-downloads\">PDF Poster Downloads</a></li>\\n                        <li><a href=\"/pass-it-on-downloads#passiton_bookmarks\">Bookmark Downloads</a></li>\\n                      </ul>\\n                    </li>\\n                    <li class=\"dropdown simple-dropdown\"><a href=\"#\"><i class=\\'fas fa-globe d-none d-lg-inline text-normal\\' aria-hidden=\\'true\\'></i> <i class=\\'fas fa-caret-down d-none d-lg-inline\\' aria-hidden=\\'true\\'></i></a><i class=\"fas fa-caret-down dropdown-toggle\" data-toggle=\"dropdown\" aria-hidden=\"true\"></i>\\n                     <ul class=\"dropdown-menu\" role=\"menu\">\\n                       <li><a target=\"_blank\" href=\"https://www.pasala.org/\">Spanish | Espa\\xc3\\xb1ol</a></li>\\n                       <li><a target=\"_blank\" href=\"https://www.umavidamelhor.org/\">Portuguese | Portugu\\xc3\\xaas</a></li>\\n                       <li><a target=\"_blank\" href=\"https://www.values.cn.com/\">Chinese | \\xe4\\xb8\\xad\\xe6\\x96\\x87</a></li>\\n                     </ul>\\n                    </li>\\n                </div>\\n              </div>\\n              <div class=\"col-auto pr-0\">\\n                <div class=\"header-searchbar\">\\n                  <a href=\"#search-header\" class=\"header-search-form\" aria-label=\\'search form\\'><i class=\"fas fa-search search-button\"></i></a>\\n                  <form id=\"search-header\" method=\"post\" action=\"/search\" name=\"search-header\" class=\"mfp-hide search-form-result\">\\n                    <div class=\"search-form position-relative\">\\n                      <button type=\"submit\" aria-label=\"Search\" class=\"fas fa-search close-search search-button\"></button>\\n                      <input type=\"text\" name=\"q\" class=\"search-input\" placeholder=\"Search passiton.com...\" autocomplete=\"off\">\\n                    </div>\\n                  </form>\\n                </div>\\n              </div>\\n            </div>\\n          </nav>\\n\\n        </header>\\n\\n  \\n\\n<section class=\"parallax padding-six-all bg-black\" data-stellar-background-ratio=\"0.2\" style=\"background-image:url(\\'/assets/backgrounds/flowers-7e362d59b798265063c210d16ea800b6fb4c3b13e462fbfe195df7c70c9811ce.jpg\\');\">\\n  <div class=\"container\">\\n    <div class=\"row justify-content-center\">\\n      <div class=\"col-12 col-lg-10 text-center\">\\n        <div class=\"shadow bg-extra-dark-gray padding-two-all border-radius-6 width-70 lg-width-80 sm-width-100 mx-auto lg-padding-30px-all sm-padding-15px-all sm-margin-40px-top\">\\n          <h6 class=\"font-weight-300 text-white-2 margin-20px-bottom sm-margin-15px-bottom\">Get our FREE daily quote emails!</h6>\\n          <p class=\"text-medium text-white-2 width-70 mx-auto margin-40px-bottom sm-width-100 sm-margin-15px-bottom\">Get a daily inspirational quote in your inbox each weekday! Enter your email below to subscribe.</p>\\n\\n          <form class=\"simple_form search-box3 margin-10px-bottom\" id=\"new_user\" novalidate=\"novalidate\" action=\"/users\" accept-charset=\"UTF-8\" method=\"post\"><input type=\"hidden\" name=\"authenticity_token\" value=\"ZH3GBmpT5sDYUtPaZwzcsudo4c-nImomwFgQXL0PFA8bq8y6UNz05Hf5AjzDfMf84WeaIZIaN1oI6est2n2k1A\" autocomplete=\"off\" />\\n          <div class=\"input-group add-on width-75 mx-auto sm-width-100\">\\n            <input label=\"false\" class=\"string email optional form-control text-white\" type=\"text\" placeholder=\"you@youremail.com\" value=\"\" name=\"user[email]\" id=\"user_email\" />\\n            <div class=\"input-group-append\">\\n              <button type=\"submit\" class=\"btn btn-default\" aria-label=\"Submit\"><i class=\"ti-arrow-right text-small m-0\"></i></button>\\n            </div>\\n          </div>\\n          <div class=\\'cf-turnstile margin-10px-top\\' data-sitekey=\\'0x4AAAAAAASgRtNBQYE3dg9n\\' data-callback=\\'javascriptCallback\\'></div>\\n</form>\\n\\n        </div>\\n      </div>\\n    </div>\\n  </div>\\n</section>\\n\\n\\n<section class=\"half-section bg-extra-dark-gray half-section\">\\n  <div class=\"container\">\\n\\n    <div class=\"row m-0\">\\n      <div class=\"col-12 d-flex flex-column justify-content-center text-center wow fadeIn\" data-wow-delay=\"0.2s\">\\n        <h5 class=\"text-white alt-font font-weight-400 letter-spacing-1 margin-10px-bottom\">INSPIRATIONAL QUOTES</h5>\\n        <span class=\"text-white-2 opacity8 alt-font mb-0 padding-20px-bottom\">Find the perfect quote... and Pass It On\\xc2\\xae</span>\\n\\n        <form class=\"search-box2 margin-30px-bottom\" action=\"/inspirational-quotes\" method=\"get\">\\n          <div class=\"input-group add-on width-75 mx-auto sm-width-100\">\\n            <input name=\"q\" type=\"text\" value=\\'\\' placeholder=\"Search our inspiring quotes...\" class=\"form-control text-white-2\" />\\n            <div class=\"input-group-append\">\\n              <button type=\"submit\" class=\"btn btn-default\" aria-label=\"Search\"><i class=\"ti-search text-small m-0\"></i></button>\\n            </div>\\n          </div>\\n        </form>\\n\\n      </div>\\n    </div>\\n\\n    <div class=\"row m-0\">\\n      <div class=\"col-12 d-flex flex-column justify-content-top text-center\">\\n        <div class=\\'row\\' id=\\'all_quotes\\'>\\n\\n          <div class=\"col-6 col-lg-3 text-center margin-30px-bottom sm-margin-30px-top\">\\n\\n            <a href=\"/inspirational-quotes/8036-good-friends-are-like-stars-you-dont-always\"><img alt=\"Good friends are like stars. You don&#39;t always see them, but you know they&#39;re always there. #&lt;Author:0x00007fc477833658&gt;\" class=\"margin-10px-bottom shadow\" src=\"https://assets.passiton.com/quotes/quote_artwork/8036/medium/20250107_tuesday_quote.jpg\" width=\"310\" height=\"310\" /></a>\\n            <h5 class=\\'value_on_red\\'><a href=\"/inspirational-quotes/8036-good-friends-are-like-stars-you-dont-always\">FRIENDSHIP</a></h5>\\n\\n          </div>\\n\\n\\n          <div class=\"col-6 col-lg-3 text-center margin-30px-bottom sm-margin-30px-top\">\\n\\n            <a href=\"/inspirational-quotes/7641-friends-are-medicine-for-a-wounded-heart-and\"><img alt=\"Friends are medicine for a wounded heart and vitamins for a hopeful soul. #&lt;Author:0x00007fc4778211b0&gt;\" class=\"margin-10px-bottom shadow\" src=\"https://assets.passiton.com/quotes/quote_artwork/7641/medium/20250106_monday_quote.jpg\" width=\"310\" height=\"310\" /></a>\\n            <h5 class=\\'value_on_red\\'><a href=\"/inspirational-quotes/7641-friends-are-medicine-for-a-wounded-heart-and\">FRIENDSHIP</a></h5>\\n\\n          </div>\\n\\n\\n          <div class=\"col-6 col-lg-3 text-center margin-30px-bottom sm-margin-30px-top\">\\n\\n            <a href=\"/inspirational-quotes/3589-a-ship-in-port-is-safe-but-thats-not-what\"><img alt=\"A ship in port is safe, but that&#39;s not what ships are built for. #&lt;Author:0x00007fc47786bb70&gt;\" class=\"margin-10px-bottom shadow\" src=\"https://assets.passiton.com/quotes/quote_artwork/3589/medium/20250103_friday_quote.jpg\" width=\"310\" height=\"310\" /></a>\\n            <h5 class=\\'value_on_red\\'><a href=\"/inspirational-quotes/3589-a-ship-in-port-is-safe-but-thats-not-what\">COURAGE</a></h5>\\n\\n          </div>\\n\\n\\n          <div class=\"col-6 col-lg-3 text-center margin-30px-bottom sm-margin-30px-top\">\\n\\n            <a href=\"/inspirational-quotes/7518-it-takes-courage-to-grow-up-and-become-who-you\"><img alt=\"It takes courage to grow up and become who you really are. #&lt;Author:0x00007fc4778591a0&gt;\" class=\"margin-10px-bottom shadow\" src=\"https://assets.passiton.com/quotes/quote_artwork/7518/medium/20250102_thursday_quote.jpg\" width=\"310\" height=\"310\" /></a>\\n            <h5 class=\\'value_on_red\\'><a href=\"/inspirational-quotes/7518-it-takes-courage-to-grow-up-and-become-who-you\">COURAGE</a></h5>\\n\\n          </div>\\n\\n\\n          <div class=\"col-6 col-lg-3 text-center margin-30px-bottom sm-margin-30px-top\">\\n\\n            <a href=\"/inspirational-quotes/7299-life-shrinks-or-expands-in-proportion-to-ones\"><img alt=\"Life shrinks or expands in proportion to one&#39;s courage. #&lt;Author:0x00007fc477842810&gt;\" class=\"margin-10px-bottom shadow\" src=\"https://assets.passiton.com/quotes/quote_artwork/7299/medium/20250101_wednesday_quote.jpg\" width=\"310\" height=\"310\" /></a>\\n            <h5 class=\\'value_on_red\\'><a href=\"/inspirational-quotes/7299-life-shrinks-or-expands-in-proportion-to-ones\">COURAGE</a></h5>\\n\\n          </div>\\n\\n\\n          <div class=\"col-6 col-lg-3 text-center margin-30px-bottom sm-margin-30px-top\">\\n\\n            <a href=\"/inspirational-quotes/6234-it-takes-courage-for-people-to-listen-to-their\"><img alt=\"It takes courage for people to listen to their own goodness and act on it.  #&lt;Author:0x00007fc477890740&gt;\" class=\"margin-10px-bottom shadow\" src=\"https://assets.passiton.com/quotes/quote_artwork/6234/medium/20241231_tuesday_quote.jpg\" width=\"310\" height=\"310\" /></a>\\n            <h5 class=\\'value_on_red\\'><a href=\"/inspirational-quotes/6234-it-takes-courage-for-people-to-listen-to-their\">COURAGE</a></h5>\\n\\n          </div>\\n\\n\\n          <div class=\"col-6 col-lg-3 text-center margin-30px-bottom sm-margin-30px-top\">\\n\\n            <a href=\"/inspirational-quotes/8251-courage-doesn-t-mean-you-aren-t-afraid-courage\"><img alt=\"Courage doesn\\xe2\\x80\\x99t mean you aren\\xe2\\x80\\x99t afraid. Courage means you don\\xe2\\x80\\x99t let fear stop you.  #&lt;Author:0x00007fc47787ada0&gt;\" class=\"margin-10px-bottom shadow\" src=\"https://assets.passiton.com/quotes/quote_artwork/8251/medium/20241230_monday_quote.jpg\" width=\"310\" height=\"310\" /></a>\\n            <h5 class=\\'value_on_red\\'><a href=\"/inspirational-quotes/8251-courage-doesn-t-mean-you-aren-t-afraid-courage\">COURAGE</a></h5>\\n\\n          </div>\\n\\n\\n          <div class=\"col-6 col-lg-3 text-center margin-30px-bottom sm-margin-30px-top\">\\n\\n            <a href=\"/inspirational-quotes/8439-we-are-shaped-by-our-thoughts-we-become-what\"><img alt=\"We are shaped by our thoughts; we become what we think. When the mind is pure, joy follows like a shadow that never leaves. #&lt;Author:0x00007fc4778c94c8&gt;\" class=\"margin-10px-bottom shadow\" src=\"https://assets.passiton.com/quotes/quote_artwork/8439/medium/20241227_friday_quote.jpg\" width=\"310\" height=\"310\" /></a>\\n            <h5 class=\\'value_on_red\\'><a href=\"/inspirational-quotes/8439-we-are-shaped-by-our-thoughts-we-become-what\">JOY</a></h5>\\n\\n          </div>\\n\\n\\n          <div class=\"col-6 col-lg-3 text-center margin-30px-bottom sm-margin-30px-top\">\\n\\n            <a href=\"/inspirational-quotes/8022-the-essence-of-life-is-not-in-the-great\"><img alt=\"The essence of life is not in the great victories and grand failures, but in the simple joys. #&lt;Author:0x00007fc4778b31a0&gt;\" class=\"margin-10px-bottom shadow\" src=\"https://assets.passiton.com/quotes/quote_artwork/8022/medium/20241226_thursday_quote_updated.jpg\" width=\"310\" height=\"310\" /></a>\\n            <h5 class=\\'value_on_red\\'><a href=\"/inspirational-quotes/8022-the-essence-of-life-is-not-in-the-great\">JOY</a></h5>\\n\\n          </div>\\n\\n\\n          <div class=\"col-6 col-lg-3 text-center margin-30px-bottom sm-margin-30px-top\">\\n\\n            <a href=\"/inspirational-quotes/8407-the-joy-of-giving-is-the-greatest-joy-of-life\"><img alt=\"The joy of giving is the greatest joy of life. #&lt;Author:0x00007fc4778fa988&gt;\" class=\"margin-10px-bottom shadow\" src=\"https://assets.passiton.com/quotes/quote_artwork/8407/medium/20241225_wednesday_quote.jpg\" width=\"310\" height=\"310\" /></a>\\n            <h5 class=\\'value_on_red\\'><a href=\"/inspirational-quotes/8407-the-joy-of-giving-is-the-greatest-joy-of-life\">JOY</a></h5>\\n\\n          </div>\\n\\n\\n          <div class=\"col-6 col-lg-3 text-center margin-30px-bottom sm-margin-30px-top\">\\n\\n            <a href=\"/inspirational-quotes/7571-happiness-not-in-another-place-but-this\"><img alt=\"Happiness\\xe2\\x80\\x94not in another place, but this place... not for another hour, but for this hour. #&lt;Author:0x00007fc4778e93b8&gt;\" class=\"margin-10px-bottom shadow\" src=\"https://assets.passiton.com/quotes/quote_artwork/7571/medium/20241224_tuesday_quote.jpg\" width=\"310\" height=\"310\" /></a>\\n            <h5 class=\\'value_on_red\\'><a href=\"/inspirational-quotes/7571-happiness-not-in-another-place-but-this\">JOY</a></h5>\\n\\n          </div>\\n\\n\\n          <div class=\"col-6 col-lg-3 text-center margin-30px-bottom sm-margin-30px-top\">\\n\\n            <a href=\"/inspirational-quotes/7844-joy-is-the-kind-of-happiness-that-doesn-t\"><img alt=\"Joy is the kind of happiness that doesn\\xe2\\x80\\x99t depend on what happens. #&lt;Author:0x00007fc4778d2ed8&gt;\" class=\"margin-10px-bottom shadow\" src=\"https://assets.passiton.com/quotes/quote_artwork/7844/medium/20241223_monday_quote.jpg\" width=\"310\" height=\"310\" /></a>\\n            <h5 class=\\'value_on_red\\'><a href=\"/inspirational-quotes/7844-joy-is-the-kind-of-happiness-that-doesn-t\">JOY</a></h5>\\n\\n          </div>\\n\\n\\n          <div class=\"col-6 col-lg-3 text-center margin-30px-bottom sm-margin-30px-top\">\\n\\n            <a href=\"/inspirational-quotes/7600-you-really-can-change-the-world-if-you-care\"><img alt=\"You really can change the world if you care enough. #&lt;Author:0x00007fc477920ea8&gt;\" class=\"margin-10px-bottom shadow\" src=\"https://assets.passiton.com/quotes/quote_artwork/7600/medium/20241220_friday_quote.jpg\" width=\"310\" height=\"310\" /></a>\\n            <h5 class=\\'value_on_red\\'><a href=\"/inspirational-quotes/7600-you-really-can-change-the-world-if-you-care\">CARING</a></h5>\\n\\n          </div>\\n\\n\\n          <div class=\"col-6 col-lg-3 text-center margin-30px-bottom sm-margin-30px-top\">\\n\\n            <a href=\"/inspirational-quotes/3278-without-a-sense-of-caring-there-can-be-no\"><img alt=\"Without a sense of caring, there can be no sense of community. #&lt;Author:0x00007fc47790a388&gt;\" class=\"margin-10px-bottom shadow\" src=\"https://assets.passiton.com/quotes/quote_artwork/3278/medium/20241219_thursday_quote.jpg\" width=\"310\" height=\"310\" /></a>\\n            <h5 class=\\'value_on_red\\'><a href=\"/inspirational-quotes/3278-without-a-sense-of-caring-there-can-be-no\">CARING</a></h5>\\n\\n          </div>\\n\\n\\n          <div class=\"col-6 col-lg-3 text-center margin-30px-bottom sm-margin-30px-top\">\\n\\n            <a href=\"/inspirational-quotes/7890-taking-care-of-yourself-doesnt-mean-me-first\"><img alt=\"Taking care of yourself doesn&#39;t mean me first, it means me too. #&lt;Author:0x00007fc477958c68&gt;\" class=\"margin-10px-bottom shadow\" src=\"https://assets.passiton.com/quotes/quote_artwork/7890/medium/20241218_wednesday_quote.jpg\" width=\"310\" height=\"310\" /></a>\\n            <h5 class=\\'value_on_red\\'><a href=\"/inspirational-quotes/7890-taking-care-of-yourself-doesnt-mean-me-first\">CARING</a></h5>\\n\\n          </div>\\n\\n\\n          <div class=\"col-6 col-lg-3 text-center margin-30px-bottom sm-margin-30px-top\">\\n\\n            <a href=\"/inspirational-quotes/7599-the-simple-act-of-caring-is-heroic\"><img alt=\"The simple act of caring is heroic. #&lt;Author:0x00007fc4779422d8&gt;\" class=\"margin-10px-bottom shadow\" src=\"https://assets.passiton.com/quotes/quote_artwork/7599/medium/20241217_tuesday_quote.jpg\" width=\"310\" height=\"310\" /></a>\\n            <h5 class=\\'value_on_red\\'><a href=\"/inspirational-quotes/7599-the-simple-act-of-caring-is-heroic\">CARING</a></h5>\\n\\n          </div>\\n\\n\\n          <div class=\"col-6 col-lg-3 text-center margin-30px-bottom sm-margin-30px-top\">\\n\\n            <a href=\"/inspirational-quotes/6582-have-a-heart-that-never-hardens-and-a-temper\"><img alt=\"Have a heart that never hardens, and a temper that never tires, and a touch that never hurts. #&lt;Author:0x00007fc477930c18&gt;\" class=\"margin-10px-bottom shadow\" src=\"https://assets.passiton.com/quotes/quote_artwork/6582/medium/20241216_monday_quote.jpg\" width=\"310\" height=\"310\" /></a>\\n            <h5 class=\\'value_on_red\\'><a href=\"/inspirational-quotes/6582-have-a-heart-that-never-hardens-and-a-temper\">CARING</a></h5>\\n\\n          </div>\\n\\n\\n          <div class=\"col-6 col-lg-3 text-center margin-30px-bottom sm-margin-30px-top\">\\n\\n            <a href=\"/inspirational-quotes/7093-waste-no-more-time-arguing-about-what-a-good\"><img alt=\"Waste no more time arguing about what a good person should be. Be one. #&lt;Author:0x00007fc47797ac00&gt;\" class=\"margin-10px-bottom shadow\" src=\"https://assets.passiton.com/quotes/quote_artwork/7093/medium/20241213_friday_quote.jpg\" width=\"310\" height=\"310\" /></a>\\n            <h5 class=\\'value_on_red\\'><a href=\"/inspirational-quotes/7093-waste-no-more-time-arguing-about-what-a-good\">MAKING A DIFFERENCE</a></h5>\\n\\n          </div>\\n\\n\\n          <div class=\"col-6 col-lg-3 text-center margin-30px-bottom sm-margin-30px-top\">\\n\\n            <a href=\"/inspirational-quotes/7970-what-you-do-makes-a-difference-and-you-have-to\"><img alt=\"What you do makes a difference and you have to decide what kind of a difference you want to make. #&lt;Author:0x00007fc477968fc8&gt;\" class=\"margin-10px-bottom shadow\" src=\"https://assets.passiton.com/quotes/quote_artwork/7970/medium/20241212_thursday_quote.jpg\" width=\"310\" height=\"310\" /></a>\\n            <h5 class=\\'value_on_red\\'><a href=\"/inspirational-quotes/7970-what-you-do-makes-a-difference-and-you-have-to\">MAKING A DIFFERENCE</a></h5>\\n\\n          </div>\\n\\n\\n          <div class=\"col-6 col-lg-3 text-center margin-30px-bottom sm-margin-30px-top\">\\n\\n            <a href=\"/inspirational-quotes/3460-how-wonderful-that-no-one-need-wait-a-single\"><img alt=\"How wonderful that no one need wait a single moment to improve the world. #&lt;Author:0x00007fc4779b3730&gt;\" class=\"margin-10px-bottom shadow\" src=\"https://assets.passiton.com/quotes/quote_artwork/3460/medium/20241211_wednesday_quote.jpg\" width=\"310\" height=\"310\" /></a>\\n            <h5 class=\\'value_on_red\\'><a href=\"/inspirational-quotes/3460-how-wonderful-that-no-one-need-wait-a-single\">MAKING A DIFFERENCE</a></h5>\\n\\n          </div>\\n\\n\\n          <div class=\"col-6 col-lg-3 text-center margin-30px-bottom sm-margin-30px-top\">\\n\\n            <a href=\"/inspirational-quotes/7774-don-t-just-aspire-to-make-a-living-aspire-to\"><img alt=\"Don\\xe2\\x80\\x99t just aspire to make a living. Aspire to make a difference. #&lt;Author:0x00007fc4779a1fa8&gt;\" class=\"margin-10px-bottom shadow\" src=\"https://assets.passiton.com/quotes/quote_artwork/7774/medium/20241210_tuesday_quote.jpg\" width=\"310\" height=\"310\" /></a>\\n            <h5 class=\\'value_on_red\\'><a href=\"/inspirational-quotes/7774-don-t-just-aspire-to-make-a-living-aspire-to\">MAKING A DIFFERENCE</a></h5>\\n\\n          </div>\\n\\n\\n          <div class=\"col-6 col-lg-3 text-center margin-30px-bottom sm-margin-30px-top\">\\n\\n            <a href=\"/inspirational-quotes/8149-each-one-of-us-can-make-a-difference-together\"><img alt=\"Each one of us can make a difference. Together we make a change. #&lt;Author:0x00007fc477990550&gt;\" class=\"margin-10px-bottom shadow\" src=\"https://assets.passiton.com/quotes/quote_artwork/8149/medium/20241209_monday_quote.jpg\" width=\"310\" height=\"310\" /></a>\\n            <h5 class=\\'value_on_red\\'><a href=\"/inspirational-quotes/8149-each-one-of-us-can-make-a-difference-together\">MAKING A DIFFERENCE</a></h5>\\n\\n          </div>\\n\\n\\n          <div class=\"col-6 col-lg-3 text-center margin-30px-bottom sm-margin-30px-top\">\\n\\n            <a href=\"/inspirational-quotes/6860-a-dream-doesnt-become-reality-through-magic-it\"><img alt=\"A dream doesn&#39;t become reality through magic; it takes sweat, determination and hard work. #&lt;Author:0x00007fc4779dace0&gt;\" class=\"margin-10px-bottom shadow\" src=\"https://assets.passiton.com/quotes/quote_artwork/6860/medium/20241206_friday_quote.jpg\" width=\"310\" height=\"310\" /></a>\\n            <h5 class=\\'value_on_red\\'><a href=\"/inspirational-quotes/6860-a-dream-doesnt-become-reality-through-magic-it\">DETERMINATION</a></h5>\\n\\n          </div>\\n\\n\\n          <div class=\"col-6 col-lg-3 text-center margin-30px-bottom sm-margin-30px-top\">\\n\\n            <a href=\"/inspirational-quotes/8195-some-succeed-because-they-are-destined-to-but\"><img alt=\"Some succeed because they are destined to, but most succeed because they are determined to. #&lt;Author:0x00007fc4779c8fe0&gt;\" class=\"margin-10px-bottom shadow\" src=\"https://assets.passiton.com/quotes/quote_artwork/8195/medium/20241205_thursday_quote.jpg\" width=\"310\" height=\"310\" /></a>\\n            <h5 class=\\'value_on_red\\'><a href=\"/inspirational-quotes/8195-some-succeed-because-they-are-destined-to-but\">DETERMINATION</a></h5>\\n\\n          </div>\\n\\n\\n          <div class=\"col-6 col-lg-3 text-center margin-30px-bottom sm-margin-30px-top\">\\n\\n            <a href=\"/inspirational-quotes/6640-sometimes-there-is-nothing-you-can-do-and-in\"><img alt=\"Sometimes there is nothing you can do, and in those times, you must do something anyway. #&lt;Author:0x00007fc477a12d98&gt;\" class=\"margin-10px-bottom shadow\" src=\"https://assets.passiton.com/quotes/quote_artwork/6640/medium/20241204_wednesday_quote.jpg\" width=\"310\" height=\"310\" /></a>\\n            <h5 class=\\'value_on_red\\'><a href=\"/inspirational-quotes/6640-sometimes-there-is-nothing-you-can-do-and-in\">DETERMINATION</a></h5>\\n\\n          </div>\\n\\n\\n          <div class=\"col-6 col-lg-3 text-center margin-30px-bottom sm-margin-30px-top\">\\n\\n            <a href=\"/inspirational-quotes/7313-i-believe-success-is-achieved-by-ordinary\"><img alt=\"I believe success is achieved by ordinary people with extraordinary determination. #&lt;Author:0x00007fc477a01688&gt;\" class=\"margin-10px-bottom shadow\" src=\"https://assets.passiton.com/quotes/quote_artwork/7313/medium/20241203_tuesday_quote.jpg\" width=\"310\" height=\"310\" /></a>\\n            <h5 class=\\'value_on_red\\'><a href=\"/inspirational-quotes/7313-i-believe-success-is-achieved-by-ordinary\">DETERMINATION</a></h5>\\n\\n          </div>\\n\\n\\n          <div class=\"col-6 col-lg-3 text-center margin-30px-bottom sm-margin-30px-top\">\\n\\n            <a href=\"/inspirational-quotes/6840-keep-your-dreams-alive-understand-to-achieve\"><img alt=\"Keep your dreams alive. Understand to achieve anything requires faith and belief in yourself, vision, hard work, determination, and dedication. Remember all things are possible for those who believe. #&lt;Author:0x00007fc477cab730&gt;\" class=\"margin-10px-bottom shadow\" src=\"https://assets.passiton.com/quotes/quote_artwork/6840/medium/20241202_monday_quote.jpg\" width=\"310\" height=\"310\" /></a>\\n            <h5 class=\\'value_on_red\\'><a href=\"/inspirational-quotes/6840-keep-your-dreams-alive-understand-to-achieve\">DETERMINATION</a></h5>\\n\\n          </div>\\n\\n\\n          <div class=\"col-6 col-lg-3 text-center margin-30px-bottom sm-margin-30px-top\">\\n\\n            <a href=\"/inspirational-quotes/8367-the-more-grateful-i-am-the-more-beauty-i-see\"><img alt=\"The more grateful I am, the more beauty I see. #&lt;Author:0x00007fc477c99e68&gt;\" class=\"margin-10px-bottom shadow\" src=\"https://assets.passiton.com/quotes/quote_artwork/8367/medium/20241129_friday_quote_.jpg\" width=\"310\" height=\"310\" /></a>\\n            <h5 class=\\'value_on_red\\'><a href=\"/inspirational-quotes/8367-the-more-grateful-i-am-the-more-beauty-i-see\">GRATITUDE</a></h5>\\n\\n          </div>\\n\\n\\n          <div class=\"col-6 col-lg-3 text-center margin-30px-bottom sm-margin-30px-top\">\\n\\n            <a href=\"/inspirational-quotes/3040-thankfulness-is-the-beginning-of-gratitude\"><img alt=\"Thankfulness is the beginning of gratitude. #&lt;Author:0x00007fc477c88280&gt;\" class=\"margin-10px-bottom shadow\" src=\"https://assets.passiton.com/quotes/quote_artwork/3040/medium/20241128_thursday_quote_.jpg\" width=\"310\" height=\"310\" /></a>\\n            <h5 class=\\'value_on_red\\'><a href=\"/inspirational-quotes/3040-thankfulness-is-the-beginning-of-gratitude\">GRATITUDE</a></h5>\\n\\n          </div>\\n\\n\\n          <div class=\"col-6 col-lg-3 text-center margin-30px-bottom sm-margin-30px-top\">\\n\\n            <a href=\"/inspirational-quotes/3105-gratitude-unlocks-the-fullness-of-life-it\"><img alt=\"Gratitude unlocks the fullness of life. It turns what we have into enough, and more. #&lt;Author:0x00007fc477cd2ab0&gt;\" class=\"margin-10px-bottom shadow\" src=\"https://assets.passiton.com/quotes/quote_artwork/3105/medium/20241127_wednesday_quote_.jpg\" width=\"310\" height=\"310\" /></a>\\n            <h5 class=\\'value_on_red\\'><a href=\"/inspirational-quotes/3105-gratitude-unlocks-the-fullness-of-life-it\">GRATITUDE</a></h5>\\n\\n          </div>\\n\\n\\n          <div class=\"col-6 col-lg-3 text-center margin-30px-bottom sm-margin-30px-top\">\\n\\n            <a href=\"/inspirational-quotes/8400-showing-gratitude-is-one-of-the-simplest-yet\"><img alt=\"Showing gratitude is one of the simplest yet most powerful things humans can do for each other. #&lt;Author:0x00007fc477cc14b8&gt;\" class=\"margin-10px-bottom shadow\" src=\"https://assets.passiton.com/quotes/quote_artwork/8400/medium/20241126_tuesday_quote_.jpg\" width=\"310\" height=\"310\" /></a>\\n            <h5 class=\\'value_on_red\\'><a href=\"/inspirational-quotes/8400-showing-gratitude-is-one-of-the-simplest-yet\">GRATITUDE</a></h5>\\n\\n          </div>\\n\\n\\n          <div class=\"col-6 col-lg-3 text-center margin-30px-bottom sm-margin-30px-top\">\\n\\n            <a href=\"/inspirational-quotes/8157-start-each-day-with-a-positive-thought-and-a\"><img alt=\"Start each day with a positive thought and a grateful heart. #&lt;Author:0x00007fc477d0bef0&gt;\" class=\"margin-10px-bottom shadow\" src=\"https://assets.passiton.com/quotes/quote_artwork/8157/medium/20241125_monday_quote_.jpg\" width=\"310\" height=\"310\" /></a>\\n            <h5 class=\\'value_on_red\\'><a href=\"/inspirational-quotes/8157-start-each-day-with-a-positive-thought-and-a\">GRATITUDE</a></h5>\\n\\n          </div>\\n\\n\\n          <div class=\"col-6 col-lg-3 text-center margin-30px-bottom sm-margin-30px-top\">\\n\\n            <a href=\"/inspirational-quotes/8110-i-took-a-walk-in-the-woods-and-came-out-taller\"><img alt=\"I took a walk in the woods and came out taller than the trees. #&lt;Author:0x00007fc477cf9e58&gt;\" class=\"margin-10px-bottom shadow\" src=\"https://assets.passiton.com/quotes/quote_artwork/8110/medium/20241122_friday_quote.jpg\" width=\"310\" height=\"310\" /></a>\\n            <h5 class=\\'value_on_red\\'><a href=\"/inspirational-quotes/8110-i-took-a-walk-in-the-woods-and-came-out-taller\">APPRECIATING NATURE</a></h5>\\n\\n          </div>\\n\\n        </div>\\n      </div>\\n    </div>\\n\\n    <div class=\"row\">\\n      <div class=\"col-12 text-center\">\\n          <nav class=\"pagination\" role=\"navigation\" aria-label=\"pager\">\\n    \\n    \\n        <span class=\"page current\">\\n  1\\n</span>\\n\\n        <span class=\"page\">\\n  <a rel=\"next\" href=\"/inspirational-quotes?page=2\">2</a>\\n</span>\\n\\n        <span class=\"page\">\\n  <a href=\"/inspirational-quotes?page=3\">3</a>\\n</span>\\n\\n        <span class=\"page\">\\n  <a href=\"/inspirational-quotes?page=4\">4</a>\\n</span>\\n\\n        <span class=\"page\">\\n  <a href=\"/inspirational-quotes?page=5\">5</a>\\n</span>\\n\\n        <span class=\"page gap\">&hellip;</span>\\n\\n      <span class=\"next\">\\n  <a rel=\"next\" href=\"/inspirational-quotes?page=2\">Next &rsaquo;</a>\\n</span>\\n\\n      <span class=\"last\">\\n  <a href=\"/inspirational-quotes?page=79\">Last &raquo;</a>\\n</span>\\n\\n  </nav>\\n\\n      </div>\\n    </div>\\n\\n  </div>\\n</section>\\n  <footer class=\"footer-classic-dark bg-extra-dark-gray padding-five-bottom sm-padding-30px-bottom\">\\n  <div class=\"bg-dark-footer padding-50px-tb sm-padding-30px-tb\">\\n    <div class=\"container\">\\n      <div class=\"row align-items-center\">\\n\\n        <div class=\"col-lg-4 col-md-4 sm-text-center lg-text-left alt-font sm-margin-15px-bottom\">\\n          <a href=\"/\"><img style=\"max-width: 200px;\" data-rjs=\"/assets/site/passiton_fbl_logo-130047b5350655ed0505fbb6bf8d137784664a78481a2ed020a9b5b73c7ec3d9.png\" alt=\"PassItOn.com The Foundation for a Better Life\" class=\"footer_logo\" src=\"/assets/site/passiton_fbl_logo-130047b5350655ed0505fbb6bf8d137784664a78481a2ed020a9b5b73c7ec3d9.png\" /></a>\\n        </div>\\n\\n        <div class=\"col-lg-4 col-md-4 text-center sm-margin-10px-bottom\">\\n        </div>\\n\\n        <div class=\"col-lg-4 col-md-4 text-center\">\\n          <span class=\"alt-font margin-20px-right text-light-gray\">Follow us on social</span>\\n          <div class=\"social-icon-style-8 d-inline-block vertical-align-middle\">\\n            <ul class=\"small-icon mb-0\">\\n              <li><a class=\"facebook text-white-2\" href=\"https://www.facebook.com/valuescom\" target=\"_blank\" aria-label=\\'facebook\\'><i class=\"fab fa-facebook-f\" aria-hidden=\"true\"></i></a></li>\\n              <li><a class=\"twitter text-white-2\" href=\"https://twitter.com/passiton_values\" target=\"_blank\" aria-label=\\'twitter\\'><i class=\"fab fa-twitter\"></i></a></li>\\n              <li><a class=\"instagram text-white-2\" href=\"https://www.instagram.com/passiton_values/\" target=\"_blank\" aria-label=\\'instagram\\'><i class=\"fab fa-instagram no-margin-right\" aria-hidden=\"true\"></i></a></li>\\n              <li><a class=\"pinterest text-white-2\" href=\"https://www.pinterest.com/passiton_values/\" target=\"_blank\" aria-label=\\'pinterest\\'><i class=\"fab fa-pinterest no-margin-right\" aria-hidden=\"true\"></i></a></li>\\n              <li><a class=\"youtube text-white-2\" href=\"https://www.youtube.com/c/passiton_values\" target=\"_blank\" aria-label=\\'youtube\\'><i class=\"fab fa-youtube no-margin-right\" aria-hidden=\"true\"></i></a></li>\\n            </ul>\\n          </div>\\n        </div>\\n\\n      </div>\\n    </div>\\n  </div>\\n  <div class=\"footer-widget-area padding-five-top padding-30px-bottom sm-padding-30px-top\">\\n    <div class=\"container\">\\n      <div class=\"row\">\\n\\n        <div class=\"col-lg-3 col-md-6 widget border-right border-color-medium-dark-gray padding-45px-left md-padding-15px-left md-no-border-right md-margin-30px-bottom text-center text-md-left\">\\n          <div class=\"widget-title alt-font text-small text-medium-gray text-uppercase margin-10px-bottom font-weight-600\">Pass It On</div>\\n          <ul class=\"list-unstyled\">\\n            <li><a class=\"text-small text-light-gray\" href=\"/share-your-values\">Help Us Inspire Others</a></li>\\n          </ul>\\n\\n          <div class=\"widget-title alt-font text-small text-medium-gray text-uppercase margin-10px-bottom font-weight-600\">About Us</div>\\n          <ul class=\"list-unstyled\">\\n            <li><a class=\"text-small text-light-gray\" href=\"/who-we-are\">About The Foundation for a Better Life</a></li>\\n            <li><a class=\"text-small text-light-gray\" href=\"/faqs\">FAQs</a></li>\\n            <li><a class=\"text-small text-light-gray\" href=\"/foundation-recognition\">Foundation Recognition</a></li>\\n            <li><a class=\"text-small text-light-gray\" href=\"/contact-us\">Contact Us</a></li>\\n          </ul>\\n        </div>\\n\\n        <div class=\"col-lg-3 col-md-6 widget border-right border-color-medium-dark-gray padding-45px-left md-padding-15px-left md-no-border-right md-margin-30px-bottom text-center text-md-left\">\\n          <div class=\"widget-title alt-font text-small text-medium-gray text-uppercase margin-10px-bottom font-weight-600\">Be Inspired</div>\\n          <ul class=\"list-unstyled\">\\n            <li><a class=\"text-small text-light-gray\" href=\"/teaching-values\">Teaching Values</a></li>\\n            <li><a class=\"text-small text-light-gray\" href=\"/inspirational-quotes\">Inspirational Quotations</a></li>\\n            <li><a class=\"text-small text-light-gray\" href=\"/inspirational-stories-tv-spots\">Pass It On\\xc2\\xae Videos</a></li>\\n            <li><a class=\"text-small text-light-gray\" href=\"/artcenter-psas\">ArtCenter College of Design PSAs</a></li>\\n            <li><a class=\"text-small text-light-gray\" href=\"/positive-good-news-stories\">Free Newspaper Stories</a></li>\\n            <li><a class=\"text-small text-light-gray\" href=\"/inspirational-sayings-billboards\">Official Billboard Campaign</a></li>\\n            <li><a class=\"text-small text-light-gray\" href=\"/inspirational-audio-stories\">Podcast</a></li>\\n            <li><a class=\"text-small text-light-gray\" href=\"/radio\">Radio Ads</a></li>\\n            <li><a class=\"text-small text-light-gray\" href=\"/passiton-blog\">Pass It On\\xc2\\xae Blog</a></li>\\n            <li><a class=\"text-small text-light-gray\" href=\"/pass-it-on-ecards\">Send an Ecard</a></li>\\n          </ul>\\n        </div>\\n\\n        <div class=\"col-lg-3 col-md-6 widget border-right border-color-medium-dark-gray padding-45px-left md-padding-15px-left md-no-border-right md-margin-30px-bottom text-center text-md-left\">\\n          <div class=\"widget-title alt-font text-small text-medium-gray text-uppercase margin-10px-bottom font-weight-600\">For Schools</div>\\n          <ul class=\"list-unstyled\">\\n            <li><a class=\"text-small text-light-gray\" href=\"/poster-requests/new\">FREE Posters for Schools</a></li>\\n            <li><a class=\"text-small text-light-gray\" href=\"/positive-good-news-stories\"><span class=\\'new\\'>NEW</span> Inspirational Stories</a></li>\\n            <li><a class=\"text-small text-light-gray\" href=\"/free-ebook/download\"><span class=\\'new\\'>FREE</span> PassItOn\\xc2\\xae Stories eBook</a></li>\\n            <li><a class=\"text-small text-light-gray\" href=\"/pass-it-on-downloads\">PDF Poster Downloads</a></li>\\n            <li><a class=\"text-small text-light-gray\" href=\"/pass-it-on-downloads#passiton_bookmarks\">Bookmark Downloads</a></li>\\n          </ul>\\n\\n          <div class=\"widget-title alt-font text-small text-medium-gray text-uppercase margin-10px-bottom font-weight-600\"><i class=\\'fas fa-globe d-none d-lg-inline text-normal\\' aria-hidden=\\'true\\'></i></div>\\n          <ul class=\"list-unstyled\">\\n            <li><a target=\"_blank\" class=\"text-small text-light-gray\" href=\"https://www.pasala.org/\">Espa\\xc3\\xb1ol | Spanish</a></li>\\n            <li><a target=\"_blank\" class=\"text-small text-light-gray\" href=\"https://www.umavidamelhor.org/\">Portugu\\xc3\\xaas | Portuguese</a></li>\\n            <li><a target=\"_blank\" class=\"text-small text-light-gray\" href=\"https://www.values.cn.com/\">\\xe4\\xb8\\xad\\xe6\\x96\\x87 | Chinese</a></li>\\n          </ul>\\n\\n        </div>\\n\\n        <div class=\"col-lg-3 col-md-6 widget padding-45px-left md-padding-15px-left md-no-border-right md-margin-30px-bottom text-center text-md-left\">\\n          <div class=\"widget-title alt-font text-small text-medium-gray text-uppercase margin-10px-bottom font-weight-600\">For Media Companies</div>\\n          <ul class=\"list-unstyled\">\\n            <li><a class=\"text-small text-light-gray\" href=\"/for-media-companies\">For Media Companies</a></li>\\n            <li><a class=\"text-small text-light-gray\" href=\"https://www.passiton-media.com\">Broadcast Quality PSA Downloads</a></li>\\n            <li><a class=\"text-small text-light-gray\" href=\"https://www.passiton-media.com\">Pass It On Radio Ads</a></li>\\n            <li><a class=\"text-small text-light-gray\" href=\"https://www.passiton-media.com\">Live Reads</a></li>\\n            <li><a class=\"text-small text-light-gray\" href=\"https://www.passiton-media.com\">Out of Home Materials</a></li>\\n          </ul>\\n          <div class=\\'row sm-margin-30px-top\\'>\\n            <div class=\\'col-lg-4\\'>\\n              <a href=\"/\"><img style=\"max-width: 70px;\" alt=\"values.com logo\" src=\"/assets/site/values_logo-d2f298a8d307ac7a45b2651f13796052ecfd37d37d73b102f7c910ee6e2eabc2.png\" /></a>\\n            </div>\\n            <div class=\\'col-lg-7\\'>\\n              <p class=\\'text-light-gray text-small padding-10px-top\\'>VALUES.COM<small>\\xc2\\xae</small> is now PassItOn.com<small>\\xc2\\xae</small></p>\\n            </div>\\n          </div>\\n        </div>\\n\\n      </div>\\n    </div>\\n  </div>\\n  <div class=\"container\">\\n    <div class=\"footer-bottom border-top border-color-medium-dark-gray padding-30px-top\">\\n      <div class=\"row\">\\n        <div class=\"col-lg-6 col-md-6 text-small text-light-gray text-md-left text-center\">\\xc2\\xa92000-2025 The Foundation for a Better Life. <span class=\\'cookies_preference\\'></span></div>\\n        <div class=\"col-lg-6 col-md-6 text-small text-light-gray text-md-right text-center\"><a class=\"text-light-gray\" href=\"/privacy-policy\">Privacy Policy</a>&nbsp;&nbsp;&nbsp;|&nbsp;&nbsp;&nbsp;<a class=\"text-light-gray\" href=\"/terms-of-use\">Terms of Use</a></div>\\n      </div>\\n    </div>\\n  </div>\\n</footer>\\n  <a class=\"scroll-top-arrow\" href=\"javascript:void(0);\"><i class=\"ti-arrow-up\"></i></a>\\n  <script src=\"/assets/application-c3b95450f540e39fd8934807decc442de5b21c5a867e32f27d7e6d65a1ad0888.js\" data-turbo-track=\"reload\"></script>\\n  <script src=\"https://cdnjs.cloudflare.com/ajax/libs/popper.js/1.14.7/umd/popper.min.js\" integrity=\"sha384-UO2eT0CpHqdSJQ6hJty5KVphtPhzWj9WO1clHTMGa3JDZwrnQq4sF86dIHNDz0W1\" crossorigin=\"anonymous\"></script>\\n  <script src=\"https://stackpath.bootstrapcdn.com/bootstrap/4.3.1/js/bootstrap.min.js\" integrity=\"sha384-JjSmVgyd0p3pXB1rRibZUAYoIIy6OrQ6VrjIEaFf/nJGzIxFDsf4x0xIM+B07jRM\" crossorigin=\"anonymous\"></script>\\n  <script src=\"https://cdnjs.cloudflare.com/ajax/libs/jquery-jcrop/0.9.15/js/jquery.Jcrop.min.js\"></script>\\n  \\n\\n    <div id=\\'download_ebook\\' class=\\'zoom-anim-dialog mfp-hide col-xl-6 col-lg-6 col-md-7 col-11 mx-auto bg-white text-center modal-popup-main padding-50px-all\\'>\\n      <a class=\"ebook_download\" href=\"/free-ebook/download\"><img style=\"max-width: 200px;\" src=\"/assets/ebooks/ebook_ipad-a3c7e1044b5a999076936090cd02f5a7dfbf1a1bde621af2c155c7ba3c38cc8a.png\" /></a><br />\\n      <h6 class=\"font-weight-300 text-extra-dark-gray margin-20px-bottom sm-margin-15px-bottom\"><strong>FREE</strong></span> PassItOn<sup><span style=\\'font-size: .8rem;\\'>\\xc2\\xae</span></sup> Stories eBook</h6>\\n      <p class=\"text-medium text-extra-dark-gray width-70 mx-auto margin-40px-bottom sm-width-100 sm-margin-15px-bottom\">Download your FREE copy of our new PassItOn Stories eBook. It includes 25 inspirational and uplifting stories from around the world.</p>\\n      <p><a class=\"ebook_download btn btn-small btn-black btn-rounded\" href=\"/free-ebook/download\">Download Free eBook</a></p>\\n    </div>\\n    <script src=\"/assets/popups-92bd4141c1bf397309e84e5996d2f990c411d3ade597953f11ea3a000a2891f2.js\" data-turbo-track=\"reload\"></script>\\n\\n    <div class=\\'cookies_consent w-100 wow fadeIn\\'>\\n  <span class=\"text-white alt-font mb-0 padding-20px-bottom\">We use cookies or similar technologies to process data when you visit our site. This data may relate to your use of our site, your preferences, your device, or other information about you. We and third parties may use this information for a variety of purposes, such as enabling the sites to function, to personalize your experience when using our sites, and for analytical purposes. Read our <a class=\"text-white text-decoration-underline\" href=\"/privacy-policy\">privacy policy</a> and <a class=\"text-white text-decoration-underline\" href=\"/terms-of-use\">terms of use</a> for details.</span>\\n  <a class=\"text-white close_cookies_consent\" data-remote=\"true\" href=\"/cookies?cookies_accepted=rejected\"><i class=\\'fas fa-window-close d-lg-inline text-normal\\' aria-hidden=\\'true\\'></i> close</a>\\n  <br /><br />\\n  <a class=\"btn btn-small btn-white btn-rounded\" data-remote=\"true\" href=\"/cookies?cookies_accepted=rejected\">Reject All</a>\\n  <a class=\"btn btn-small btn-white btn-rounded\" data-remote=\"true\" href=\"/cookies?cookies_accepted=accepted\">Accept All</a>\\n</div>\\n\\n</body>\\n</html>'"
      ]
     },
     "execution_count": 6,
     "metadata": {},
     "output_type": "execute_result"
    }
   ],
   "source": [
    "res.content"
   ]
  },
  {
   "cell_type": "code",
   "execution_count": 7,
   "id": "6ec80a3c-89b5-4752-abd7-817b03dd0797",
   "metadata": {},
   "outputs": [],
   "source": [
    "data = res.content"
   ]
  },
  {
   "cell_type": "code",
   "execution_count": 9,
   "id": "64b7538d-eb35-474a-98de-7ebafce05289",
   "metadata": {},
   "outputs": [],
   "source": [
    "soup = bs4.BeautifulSoup(data, 'html.parser')"
   ]
  },
  {
   "cell_type": "code",
   "execution_count": 10,
   "id": "89b62bf9-0168-4632-b644-456b36303291",
   "metadata": {},
   "outputs": [],
   "source": [
    "imgs = soup.find_all('img')"
   ]
  },
  {
   "cell_type": "code",
   "execution_count": 11,
   "id": "09e9b308-dded-411d-8eb3-d33f6733724f",
   "metadata": {},
   "outputs": [
    {
     "data": {
      "text/plain": [
       "38"
      ]
     },
     "execution_count": 11,
     "metadata": {},
     "output_type": "execute_result"
    }
   ],
   "source": [
    "len(imgs)"
   ]
  },
  {
   "cell_type": "code",
   "execution_count": 14,
   "id": "4289f86e-83e5-4d97-9307-8ca4f25e222f",
   "metadata": {},
   "outputs": [],
   "source": [
    " #identify the unique element and also the box where all the smaller boxes of each image is present, use inspect id and go through the html file to find the unique element."
   ]
  },
  {
   "cell_type": "code",
   "execution_count": 13,
   "id": "a1a9afd1-a305-4b0d-ae56-d91836c8b962",
   "metadata": {},
   "outputs": [],
   "source": [
    "box = soup.find(\"div\", attrs={\"id\": \"all_quotes\"})"
   ]
  },
  {
   "cell_type": "code",
   "execution_count": 16,
   "id": "cff17dfa-cb88-4766-82b4-e107181040fd",
   "metadata": {},
   "outputs": [],
   "source": [
    "imgs = box.find_all('img')"
   ]
  },
  {
   "cell_type": "code",
   "execution_count": 17,
   "id": "68c98d7e-d0c9-4e76-9368-6b87f54f773c",
   "metadata": {},
   "outputs": [
    {
     "data": {
      "text/plain": [
       "33"
      ]
     },
     "execution_count": 17,
     "metadata": {},
     "output_type": "execute_result"
    }
   ],
   "source": [
    "len(imgs)"
   ]
  },
  {
   "cell_type": "code",
   "execution_count": 21,
   "id": "f188b639-b5cc-473e-b3a1-5a292e0b029e",
   "metadata": {},
   "outputs": [
    {
     "data": {
      "text/plain": [
       "'https://assets.passiton.com/quotes/quote_artwork/8036/medium/20250107_tuesday_quote.jpg'"
      ]
     },
     "execution_count": 21,
     "metadata": {},
     "output_type": "execute_result"
    }
   ],
   "source": [
    "img_url = imgs[0].attrs['src']\n",
    "img_url"
   ]
  },
  {
   "cell_type": "code",
   "execution_count": 22,
   "id": "cdaf07e3-2539-4600-b383-e1336a85cf4f",
   "metadata": {},
   "outputs": [
    {
     "data": {
      "text/plain": [
       "<Response [200]>"
      ]
     },
     "execution_count": 22,
     "metadata": {},
     "output_type": "execute_result"
    }
   ],
   "source": [
    "requests.get(img_url)"
   ]
  },
  {
   "cell_type": "code",
   "execution_count": 23,
   "id": "80fd280d-0f3a-4465-b873-51dda4e38e2c",
   "metadata": {},
   "outputs": [],
   "source": [
    "res = requests.get(img_url)"
   ]
  },
  {
   "cell_type": "code",
   "execution_count": 26,
   "id": "71ad63fe-bcc3-437e-a4c1-a9cae9c6cd1f",
   "metadata": {},
   "outputs": [],
   "source": [
    "img_content = res.content"
   ]
  },
  {
   "cell_type": "code",
   "execution_count": 27,
   "id": "70cf2f49-75af-4c38-a2a6-c192defc0a41",
   "metadata": {},
   "outputs": [],
   "source": [
    "with open(\"quotes.jpg\", 'wb') as f:\n",
    "    f.write(img_content)"
   ]
  },
  {
   "cell_type": "code",
   "execution_count": 28,
   "id": "bb227d29-f7c0-4c58-9a46-987e20ffe984",
   "metadata": {},
   "outputs": [],
   "source": [
    "# now check the repository where the code resides, one image with the name quotes.jpg will be saved"
   ]
  },
  {
   "cell_type": "code",
   "execution_count": 29,
   "id": "ef3fea38-ec0d-479e-9041-ad71950acaf4",
   "metadata": {},
   "outputs": [],
   "source": [
    "# scrapping all the images"
   ]
  },
  {
   "cell_type": "code",
   "execution_count": 33,
   "id": "d99c26ef-bad0-4011-9848-858f877cfa0a",
   "metadata": {},
   "outputs": [
    {
     "name": "stdout",
     "output_type": "stream",
     "text": [
      "https://assets.passiton.com/quotes/quote_artwork/8036/medium/20250107_tuesday_quote.jpg\n",
      "https://assets.passiton.com/quotes/quote_artwork/7641/medium/20250106_monday_quote.jpg\n",
      "https://assets.passiton.com/quotes/quote_artwork/3589/medium/20250103_friday_quote.jpg\n",
      "https://assets.passiton.com/quotes/quote_artwork/7518/medium/20250102_thursday_quote.jpg\n",
      "https://assets.passiton.com/quotes/quote_artwork/7299/medium/20250101_wednesday_quote.jpg\n",
      "https://assets.passiton.com/quotes/quote_artwork/6234/medium/20241231_tuesday_quote.jpg\n",
      "https://assets.passiton.com/quotes/quote_artwork/8251/medium/20241230_monday_quote.jpg\n",
      "https://assets.passiton.com/quotes/quote_artwork/8439/medium/20241227_friday_quote.jpg\n",
      "https://assets.passiton.com/quotes/quote_artwork/8022/medium/20241226_thursday_quote_updated.jpg\n",
      "https://assets.passiton.com/quotes/quote_artwork/8407/medium/20241225_wednesday_quote.jpg\n",
      "https://assets.passiton.com/quotes/quote_artwork/7571/medium/20241224_tuesday_quote.jpg\n",
      "https://assets.passiton.com/quotes/quote_artwork/7844/medium/20241223_monday_quote.jpg\n",
      "https://assets.passiton.com/quotes/quote_artwork/7600/medium/20241220_friday_quote.jpg\n",
      "https://assets.passiton.com/quotes/quote_artwork/3278/medium/20241219_thursday_quote.jpg\n",
      "https://assets.passiton.com/quotes/quote_artwork/7890/medium/20241218_wednesday_quote.jpg\n",
      "https://assets.passiton.com/quotes/quote_artwork/7599/medium/20241217_tuesday_quote.jpg\n",
      "https://assets.passiton.com/quotes/quote_artwork/6582/medium/20241216_monday_quote.jpg\n",
      "https://assets.passiton.com/quotes/quote_artwork/7093/medium/20241213_friday_quote.jpg\n",
      "https://assets.passiton.com/quotes/quote_artwork/7970/medium/20241212_thursday_quote.jpg\n",
      "https://assets.passiton.com/quotes/quote_artwork/3460/medium/20241211_wednesday_quote.jpg\n",
      "https://assets.passiton.com/quotes/quote_artwork/7774/medium/20241210_tuesday_quote.jpg\n",
      "https://assets.passiton.com/quotes/quote_artwork/8149/medium/20241209_monday_quote.jpg\n",
      "https://assets.passiton.com/quotes/quote_artwork/6860/medium/20241206_friday_quote.jpg\n",
      "https://assets.passiton.com/quotes/quote_artwork/8195/medium/20241205_thursday_quote.jpg\n",
      "https://assets.passiton.com/quotes/quote_artwork/6640/medium/20241204_wednesday_quote.jpg\n",
      "https://assets.passiton.com/quotes/quote_artwork/7313/medium/20241203_tuesday_quote.jpg\n",
      "https://assets.passiton.com/quotes/quote_artwork/6840/medium/20241202_monday_quote.jpg\n",
      "https://assets.passiton.com/quotes/quote_artwork/8367/medium/20241129_friday_quote_.jpg\n",
      "https://assets.passiton.com/quotes/quote_artwork/3040/medium/20241128_thursday_quote_.jpg\n",
      "https://assets.passiton.com/quotes/quote_artwork/3105/medium/20241127_wednesday_quote_.jpg\n",
      "https://assets.passiton.com/quotes/quote_artwork/8400/medium/20241126_tuesday_quote_.jpg\n",
      "https://assets.passiton.com/quotes/quote_artwork/8157/medium/20241125_monday_quote_.jpg\n",
      "https://assets.passiton.com/quotes/quote_artwork/8110/medium/20241122_friday_quote.jpg\n"
     ]
    }
   ],
   "source": [
    "for i in imgs:\n",
    "    print(i.attrs['src'])"
   ]
  },
  {
   "cell_type": "code",
   "execution_count": 35,
   "id": "770ce2fd-190b-4e12-85f0-137fd91633f5",
   "metadata": {},
   "outputs": [],
   "source": [
    "for i in imgs:\n",
    "    img_url = i.attrs['src']\n",
    "\n",
    "    res = requests.get(img_url)\n",
    "    img_content = res.content     #image will be a binary content\n",
    "\n",
    "    with open(\"quotes.jpg\", 'wb') as f:\n",
    "        f.write(img_content)\n",
    "\n",
    "# here only the last image will be saved in the repo as the images will be replaced with the same name every time. we need something like quotes1.jpg, quotes2.jpg etc"
   ]
  },
  {
   "cell_type": "code",
   "execution_count": 36,
   "id": "7c38afea-45e4-497a-80d1-17a11479334f",
   "metadata": {},
   "outputs": [],
   "source": [
    "# use enumerate and that will give a tuple.Example:"
   ]
  },
  {
   "cell_type": "code",
   "execution_count": 42,
   "id": "6444ae3c-a2bf-44db-896e-1b0968dbe6a6",
   "metadata": {},
   "outputs": [],
   "source": [
    "a = [\"apple\", \"mango\", \"banana\", \"grapes\"]"
   ]
  },
  {
   "cell_type": "code",
   "execution_count": 44,
   "id": "a4d1524b-bd33-40c3-a51f-aadc817bb2d8",
   "metadata": {},
   "outputs": [
    {
     "name": "stdout",
     "output_type": "stream",
     "text": [
      "0 apple\n",
      "1 mango\n",
      "2 banana\n",
      "3 grapes\n"
     ]
    }
   ],
   "source": [
    "for index, element in enumerate(a):\n",
    "    print(index, element)"
   ]
  },
  {
   "cell_type": "code",
   "execution_count": 45,
   "id": "a5028c27-d62c-4abb-91ed-cfb2e6b4fd6b",
   "metadata": {},
   "outputs": [
    {
     "name": "stdout",
     "output_type": "stream",
     "text": [
      "10 apple\n",
      "11 mango\n",
      "12 banana\n",
      "13 grapes\n"
     ]
    }
   ],
   "source": [
    "# you can start the index from 10th location \n",
    "for index, element in enumerate(a, 10):\n",
    "    print(index, element)"
   ]
  },
  {
   "cell_type": "code",
   "execution_count": 48,
   "id": "e055adef-3637-4e29-8881-1d5d675238cc",
   "metadata": {},
   "outputs": [
    {
     "data": {
      "text/plain": [
       "'quotes99'"
      ]
     },
     "execution_count": 48,
     "metadata": {},
     "output_type": "execute_result"
    }
   ],
   "source": [
    "j = 99\n",
    "f\"quotes{i}\""
   ]
  },
  {
   "cell_type": "code",
   "execution_count": 47,
   "id": "2ec126a2-5978-4ee0-a1c1-21ca83dece29",
   "metadata": {},
   "outputs": [
    {
     "data": {
      "text/plain": [
       "'quotes99'"
      ]
     },
     "execution_count": 47,
     "metadata": {},
     "output_type": "execute_result"
    }
   ],
   "source": [
    "i = 99\n",
    "\"quotes{}\".format(i)"
   ]
  },
  {
   "cell_type": "code",
   "execution_count": 51,
   "id": "a0dc5eca-0002-49d4-8fa3-729328401339",
   "metadata": {},
   "outputs": [],
   "source": [
    "for indx,i in enumerate(imgs):\n",
    "    img_url = i.attrs['src']\n",
    "\n",
    "    res = requests.get(img_url)\n",
    "    img_content = res.content     #image will be a binary content\n",
    "\n",
    "    with open(f\"images/quotes_{indx}.jpg\", 'wb') as f:  #a folder by the name 'images' will have to be created in the repo\n",
    "        f.write(img_content)"
   ]
  },
  {
   "cell_type": "code",
   "execution_count": 53,
   "id": "8c88431b-23f8-47af-b2ec-49f4d6bf6647",
   "metadata": {},
   "outputs": [],
   "source": [
    "# the above code will save all the pics in the images folder.Note that this is for the first page. \n",
    "# if you want to extract image quotes from 2nd page, update the URL and for indx,i in enumerate(imgs, 32) >> this will start the file name with 32 and will not overright the existing image quotes present in the images folder.\n",
    "# you can iterate over the pages."
   ]
  },
  {
   "cell_type": "code",
   "execution_count": null,
   "id": "aed95d82-70d5-472c-b498-94ff64259062",
   "metadata": {},
   "outputs": [],
   "source": []
  }
 ],
 "metadata": {
  "kernelspec": {
   "display_name": "Python 3 (ipykernel)",
   "language": "python",
   "name": "python3"
  },
  "language_info": {
   "codemirror_mode": {
    "name": "ipython",
    "version": 3
   },
   "file_extension": ".py",
   "mimetype": "text/x-python",
   "name": "python",
   "nbconvert_exporter": "python",
   "pygments_lexer": "ipython3",
   "version": "3.12.4"
  }
 },
 "nbformat": 4,
 "nbformat_minor": 5
}
