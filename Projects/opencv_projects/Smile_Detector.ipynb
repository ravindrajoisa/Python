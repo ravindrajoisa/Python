{
 "cells": [
  {
   "cell_type": "code",
   "execution_count": 1,
   "id": "888f77e2-b42e-487b-a477-3941229b9179",
   "metadata": {},
   "outputs": [],
   "source": [
    "import cv2"
   ]
  },
  {
   "cell_type": "code",
   "execution_count": 2,
   "id": "90f1719b-9e41-49ae-a9bf-a47685a78384",
   "metadata": {},
   "outputs": [],
   "source": [
    "detector = cv2.CascadeClassifier('./haarcascade_smile.xml')"
   ]
  },
  {
   "cell_type": "code",
   "execution_count": 5,
   "id": "33f2063b-1d8a-45b9-8f5f-94c989281d27",
   "metadata": {},
   "outputs": [],
   "source": [
    "cam = cv2.VideoCapture(0)\n",
    "\n",
    "while True:\n",
    "    ret, frame = cam.read()\n",
    "\n",
    "    if ret == False:\n",
    "        continue\n",
    "\n",
    "    all_smiles = detector.detectMultiScale(frame, 1.5, 50)\n",
    "\n",
    "    sorted_smile = sorted(all_smiles, key = lambda s: s[-1]*s[-2])\n",
    "\n",
    "    if sorted_smile:\n",
    "        x,y,w,h = sorted_smile[0]\n",
    "        cv2.rectangle(frame, (x,y), (x+w, y+h), (0,0,255),2)\n",
    "\n",
    "    cv2.imshow(\"Smile Detector\", frame)\n",
    "    \n",
    "    key_pressed = cv2.waitKey(1) & 0xFF\n",
    "    if key_pressed == ord('q'):\n",
    "        break\n",
    "\n",
    "cam.release()\n",
    "cv2.destroyAllWindows()"
   ]
  },
  {
   "cell_type": "code",
   "execution_count": null,
   "id": "daa0725b-4f08-4096-ad7f-91a8d510f489",
   "metadata": {},
   "outputs": [],
   "source": []
  },
  {
   "cell_type": "code",
   "execution_count": null,
   "id": "c28cf2f5-1ff7-4f5b-97d7-e2b7add3f8ac",
   "metadata": {},
   "outputs": [],
   "source": []
  }
 ],
 "metadata": {
  "kernelspec": {
   "display_name": "Python 3 (ipykernel)",
   "language": "python",
   "name": "python3"
  },
  "language_info": {
   "codemirror_mode": {
    "name": "ipython",
    "version": 3
   },
   "file_extension": ".py",
   "mimetype": "text/x-python",
   "name": "python",
   "nbconvert_exporter": "python",
   "pygments_lexer": "ipython3",
   "version": "3.12.4"
  }
 },
 "nbformat": 4,
 "nbformat_minor": 5
}
