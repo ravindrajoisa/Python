{
 "cells": [
  {
   "cell_type": "code",
   "execution_count": 1,
   "id": "2fcab060-8c44-4a3d-8359-16c3a8ceab77",
   "metadata": {},
   "outputs": [],
   "source": [
    "# read video from webcam"
   ]
  },
  {
   "cell_type": "code",
   "execution_count": 2,
   "id": "e91bdeea-aa9a-47dd-985e-908fab181695",
   "metadata": {},
   "outputs": [],
   "source": [
    "# 0 indicates your desktop camera"
   ]
  },
  {
   "cell_type": "code",
   "execution_count": 4,
   "id": "4f360944-a60a-4fad-99c2-bde947b5a5c6",
   "metadata": {},
   "outputs": [],
   "source": [
    "import cv2\n",
    "\n",
    "cam = cv2.VideoCapture(0) \n",
    "while True:\n",
    "    ret, frame = cam.read()  # here ret will be boolean, if the camera can read frames then true else false\n",
    "\n",
    "    if ret == False:\n",
    "        continue\n",
    "\n",
    "    cv2.imshow(\"My Frame\", frame)\n",
    "    #cv2.waitKey(1)\n",
    "\n",
    "    # Waiting for the user to press a key to disconnect, if q is pressed then terminate\n",
    "    key_pressed = cv2.waitKey(1) & 0xFF\n",
    "    if key_pressed == ord('q'):       # ord('q') is the ASCII value\n",
    "        break\n",
    "        \n",
    "cam.release()\n",
    "cv2.destroyAllWindows()"
   ]
  },
  {
   "cell_type": "code",
   "execution_count": null,
   "id": "60063c03-b9e2-4a92-a335-2a0fd5ae1d33",
   "metadata": {},
   "outputs": [],
   "source": []
  }
 ],
 "metadata": {
  "kernelspec": {
   "display_name": "Python 3 (ipykernel)",
   "language": "python",
   "name": "python3"
  },
  "language_info": {
   "codemirror_mode": {
    "name": "ipython",
    "version": 3
   },
   "file_extension": ".py",
   "mimetype": "text/x-python",
   "name": "python",
   "nbconvert_exporter": "python",
   "pygments_lexer": "ipython3",
   "version": "3.12.4"
  }
 },
 "nbformat": 4,
 "nbformat_minor": 5
}
