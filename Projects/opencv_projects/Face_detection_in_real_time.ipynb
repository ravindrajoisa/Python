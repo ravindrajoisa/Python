{
 "cells": [
  {
   "cell_type": "code",
   "execution_count": 1,
   "id": "12b60f2e-2e8d-4e52-aa97-5f441c174e45",
   "metadata": {},
   "outputs": [],
   "source": [
    "import cv2"
   ]
  },
  {
   "cell_type": "code",
   "execution_count": 2,
   "id": "c9acba7b-8729-4a66-a438-4dd95fc12c69",
   "metadata": {},
   "outputs": [],
   "source": [
    "detector = cv2.CascadeClassifier('./haarcascade_frontalface_default.xml')  "
   ]
  },
  {
   "cell_type": "code",
   "execution_count": 4,
   "id": "4c7a64e7-a681-4ae4-8f87-8d6a120ebcab",
   "metadata": {},
   "outputs": [],
   "source": [
    "cam = cv2.VideoCapture(0)\n",
    "\n",
    "while True:\n",
    "    ret, frame = cam.read()\n",
    "\n",
    "    if ret == False:\n",
    "        continue\n",
    "\n",
    "    all_faces = detector.detectMultiScale(frame, 1.2, 5)\n",
    "    for face in all_faces:\n",
    "        x,y,w,h = face\n",
    "        frame =  cv2.rectangle(frame, (x,y), (x+w, y+h), (255,0,0), 2)\n",
    "\n",
    "    # this will show the frame\n",
    "    cv2.imshow(\"Face detection\", frame)\n",
    "\n",
    "    # finding which key you've pressed\n",
    "    key_pressed = cv2.waitKey(1) & 0xFF\n",
    "    if key_pressed == ord('q'):\n",
    "        break\n",
    "\n",
    "\n",
    "cam.release()\n",
    "cv2.destroyAllWindows()\n"
   ]
  },
  {
   "cell_type": "code",
   "execution_count": null,
   "id": "56b1aef4-5757-4da6-87b1-f3bdc772cde4",
   "metadata": {},
   "outputs": [],
   "source": []
  }
 ],
 "metadata": {
  "kernelspec": {
   "display_name": "Python 3 (ipykernel)",
   "language": "python",
   "name": "python3"
  },
  "language_info": {
   "codemirror_mode": {
    "name": "ipython",
    "version": 3
   },
   "file_extension": ".py",
   "mimetype": "text/x-python",
   "name": "python",
   "nbconvert_exporter": "python",
   "pygments_lexer": "ipython3",
   "version": "3.12.4"
  }
 },
 "nbformat": 4,
 "nbformat_minor": 5
}
